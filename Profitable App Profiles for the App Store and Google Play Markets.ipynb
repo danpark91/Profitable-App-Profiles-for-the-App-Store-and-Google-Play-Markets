{
 "cells": [
  {
   "cell_type": "markdown",
   "metadata": {},
   "source": [
    "# Analyzing Mobile App Data\n",
    "\n",
    "We only build apps that are free to download and install, and our main source of revenue consists of in-app ads. The number of users of our apps determines our revenue for any given app. Our goal for this project is to analyze data to help our developers understand what type of apps are likely to attract more users."
   ]
  },
  {
   "cell_type": "markdown",
   "metadata": {},
   "source": [
    "## Opening and Exploring the Data"
   ]
  },
  {
   "cell_type": "code",
   "execution_count": 78,
   "metadata": {},
   "outputs": [
    {
     "name": "stdout",
     "output_type": "stream",
     "text": [
      "App Store Dataset\n",
      "['id', 'track_name', 'size_bytes', 'currency', 'price', 'rating_count_tot', 'rating_count_ver', 'user_rating', 'user_rating_ver', 'ver', 'cont_rating', 'prime_genre', 'sup_devices.num', 'ipadSc_urls.num', 'lang.num', 'vpp_lic']\n",
      "['284882215', 'Facebook', '389879808', 'USD', '0.0', '2974676', '212', '3.5', '3.5', '95.0', '4+', 'Social Networking', '37', '1', '29', '1']\n",
      "\n",
      "\n",
      "['389801252', 'Instagram', '113954816', 'USD', '0.0', '2161558', '1289', '4.5', '4.0', '10.23', '12+', 'Photo & Video', '37', '0', '29', '1']\n",
      "\n",
      "\n",
      "['529479190', 'Clash of Clans', '116476928', 'USD', '0.0', '2130805', '579', '4.5', '4.5', '9.24.12', '9+', 'Games', '38', '5', '18', '1']\n",
      "\n",
      "\n",
      "Number of rows: 7197\n",
      "Number of columns: 16\n",
      "\n",
      "\n",
      "Google Play Dataset\n",
      "['App', 'Category', 'Rating', 'Reviews', 'Size', 'Installs', 'Type', 'Price', 'Content Rating', 'Genres', 'Last Updated', 'Current Ver', 'Android Ver']\n",
      "['Photo Editor & Candy Camera & Grid & ScrapBook', 'ART_AND_DESIGN', '4.1', '159', '19M', '10,000+', 'Free', '0', 'Everyone', 'Art & Design', 'January 7, 2018', '1.0.0', '4.0.3 and up']\n",
      "\n",
      "\n",
      "['Coloring book moana', 'ART_AND_DESIGN', '3.9', '967', '14M', '500,000+', 'Free', '0', 'Everyone', 'Art & Design;Pretend Play', 'January 15, 2018', '2.0.0', '4.0.3 and up']\n",
      "\n",
      "\n",
      "['U Launcher Lite – FREE Live Cool Themes, Hide Apps', 'ART_AND_DESIGN', '4.7', '87510', '8.7M', '5,000,000+', 'Free', '0', 'Everyone', 'Art & Design', 'August 1, 2018', '1.2.4', '4.0.3 and up']\n",
      "\n",
      "\n",
      "Number of rows: 10841\n",
      "Number of columns: 13\n",
      "['osmino Wi-Fi: free WiFi', 'TOOLS', '4.2', '134203', '4.1M', '10,000,000+', 'Free', '0', 'Everyone', 'Tools', 'August 7, 2018', '6.06.14', '4.4 and up']\n"
     ]
    }
   ],
   "source": [
    "from csv import reader\n",
    "def explore_data(dataset, start, end, rows_and_columns=False):\n",
    "    dataset_slice = dataset[start:end]    \n",
    "    for row in dataset_slice:\n",
    "        print(row)\n",
    "        print('\\n') \n",
    "\n",
    "    if rows_and_columns:\n",
    "        print('Number of rows:', len(dataset))\n",
    "        print('Number of columns:', len(dataset[0]))\n",
    "\n",
    "### The App Store Dataset ###\n",
    "opened_file = open('AppleStore.csv')\n",
    "read_file = reader(opened_file)\n",
    "apple = list(read_file)\n",
    "apple_header = apple[0]\n",
    "apple = apple[1:]\n",
    "\n",
    "print('App Store Dataset')\n",
    "print(apple_header)\n",
    "explore_data(apple, 0, 3, True)\n",
    "\n",
    "### The Google Play Dataset ###\n",
    "opened_file = open('googleplaystore.csv')\n",
    "read_file = reader(opened_file)\n",
    "google = list(read_file)\n",
    "google_header = google[0]\n",
    "google = google[1:]\n",
    "\n",
    "print('\\n')\n",
    "print('Google Play Dataset')\n",
    "print(google_header)\n",
    "explore_data(google, 0, 3, True)\n",
    "\n",
    "del google[10472]\n",
    "print(google[10472])"
   ]
  },
  {
   "cell_type": "markdown",
   "metadata": {},
   "source": [
    "## Removing Duplicate Entries and Deleting Wrong Data\n",
    "The Google Play dataset has duplicate entries. A few duplicate rows are printed to confirm."
   ]
  },
  {
   "cell_type": "code",
   "execution_count": 79,
   "metadata": {},
   "outputs": [
    {
     "name": "stdout",
     "output_type": "stream",
     "text": [
      "Number of duplicate Google apps: 1181\n",
      "\n",
      "\n",
      "Examples of duplicate Google apps: ['Quick PDF Scanner + OCR FREE', 'Box', 'Google My Business', 'ZOOM Cloud Meetings', 'join.me - Simple Meetings', 'Box', 'Zenefits', 'Google Ads', 'Google My Business', 'Slack', 'FreshBooks Classic', 'Insightly CRM', 'QuickBooks Accounting: Invoicing & Expenses', 'HipChat - Chat Built for Teams', 'Xero Accounting Software', 'MailChimp - Email, Marketing Automation', 'Crew - Free Messaging and Scheduling', 'Asana: organize team projects', 'Google Analytics', 'AdWords Express', 'Accounting App - Zoho Books', 'Invoice & Time Tracking - Zoho', 'join.me - Simple Meetings', 'Invoice 2go — Professional Invoices and Estimates', 'SignEasy | Sign and Fill PDF and other Documents', 'Quick PDF Scanner + OCR FREE', 'Genius Scan - PDF Scanner', 'Tiny Scanner - PDF Scanner App', 'Fast Scanner : Free PDF Scan', 'Mobile Doc Scanner (MDScan) Lite', 'TurboScan: scan documents and receipts in PDF', 'Tiny Scanner Pro: PDF Doc Scan', 'Docs To Go™ Free Office Suite', 'OfficeSuite : Free Office + PDF Editor', 'Slack', 'QuickBooks Accounting: Invoicing & Expenses', 'WhatsApp Messenger', 'Messenger – Text and Video Chat for Free', 'imo free video calls and chat', 'Viber Messenger', 'Hangouts', 'WeChat', 'Telegram', 'Who', 'Google Voice', 'Android Messages', 'Firefox Focus: The privacy browser', 'Google Allo', 'Google Chrome: Fast & Secure', 'Firefox Browser fast & private', 'Puffin Web Browser', 'Opera Browser: Fast and Secure', 'Opera Mini - fast web browser', 'UC Browser Mini -Tiny Fast Private & Secure', 'UC Browser - Fast Download Private & Secure', 'Calls & Text by Mo+', 'Viber Messenger', 'Call Blocker', 'Gmail', 'Yahoo Mail – Stay Organized', 'Hangouts', 'imo free video calls and chat', 'free video calls and chat', 'Viber Messenger', 'Skype - free IM & video calls', 'WeChat', 'Glide - Video Chat Messenger', 'Talkray - Free Calls & Texts', 'LINE: Free Calls & Messages', 'KakaoTalk: Free Calls & Text', 'OkCupid Dating', 'CMB Free Dating App', 'Hily: Dating, Chat, Match, Meet & Hook up', 'Hinge: Dating & Relationships', 'BBW Dating & Plus Size Chat', 'Casual Dating & Adult Singles - Joyride', 'EliteSingles – Dating for Single Professionals', 'Clover Dating App', 'Moco - Chat, Meet People', 'Hot or Not - Find someone right now', 'Just She - Top Lesbian Dating', 'Once - Quality Matches Every day', 'Sudy – Meet Elite & Rich Single', 'muzmatch: Muslim & Arab Singles, Marriage & Dating', 'Chispa, the Dating App for Latino, Latina Singles', 'Blendr - Chat, Flirt & Meet', 'Find Real Love — YouLove Premium Dating', 'Cougar Dating Life : Date Older Women Sugar Mummy', 'stranger chat - anonymous chat', 'Millionaire Match: Rich Singles Dating App', 'Dating for 50 plus Mature Singles – FINALLY', 'Moco+ - Chat, Meet People', 'Chat Rooms, Avatars, Date - Galaxy', 'FastMeet: Chat, Dating, Love', 'Christian Dating For Free App', 'Meet24 - Love, Chat, Singles', 'Black White Interracial Dating - Interracial Match', 'Gay Sugar Daddy Dating & Hookup – Sudy Gay', 'Adult Dirty Emojis', 'Hide App, Private Dating, Safe Chat - PrivacyHider', 'Meet4U - Chat, Love, Singles!', '95Live -SG#1 Live Streaming App', 'Just She - Top Lesbian Dating', 'Hily: Dating, Chat, Match, Meet & Hook up', 'O-Star', 'Random Video Chat', 'Black People Meet Singles Date', 'Howlr', 'Free Dating & Flirt Chat - Choice of Love', 'Cardi B Live Stream Video Chat - Prank', 'Chat Kids - Chat Room For Kids', 'muzmatch: Muslim & Arab Singles, Marriage & Dating', 'BBW Dating & Plus Size Chat', 'Transenger – Ts Dating and Chat for Free', 'BBW Dating & Curvy Singles Chat- LargeFriends', 'MouseMingle', 'FlirtChat - ♥Free Dating/Flirting App♥', 'Live Talk - Free Text and Video Chat', 'Adult Dirty Emojis', 'Free Cam Girls - Live Webcam', 'Random Video Chat App With Strangers', 'Live Girls Talk - Free Video Chat', 'Girls Live Chat - Free Text & Video Chat', 'Free Dating App - Meet Local Singles - Flirt Chat', 'iPair-Meet, Chat, Dating', 'Free Dating Hook Up Messenger', 'Free Dating App - YoCutie - Flirt, Chat & Meet', 'Khan Academy', 'TED', 'Lumosity: #1 Brain Games & Cognitive Training App', 'Udemy - Online Courses', 'Khan Academy', 'TED', 'Duolingo: Learn Languages Free', 'Quizlet: Learn Languages & Vocab with Flashcards', 'Coursera: Online courses', 'Udemy - Online Courses', 'Udacity - Lifelong Learning', 'edX - Online Courses by Harvard, MIT & more', 'Lynda - Online Training Videos', 'Learn languages, grammar & vocabulary with Memrise', 'Brilliant', 'Babbel – Learn Languages', 'Duolingo: Learn Languages Free', 'Rosetta Stone: Learn to Speak & Read New Languages', 'Learn languages, grammar & vocabulary with Memrise', 'Learn English with Wlingua', 'Quizlet: Learn Languages & Vocab with Flashcards', 'Google Classroom', 'Duolingo: Learn Languages Free', 'Learn 50 languages', 'Mango Languages: Lovable Language Courses', 'Rosetta Stone: Learn to Speak & Read New Languages', 'Learn languages, grammar & vocabulary with Memrise', 'Babbel – Learn Languages', 'busuu: Learn Languages - Spanish, English & More', 'My Class Schedule: Timetable', 'Socratic - Math Answers & Homework Help', 'Google Classroom', 'ClassDojo', 'HelloTalk — Chat, Speak & Learn Foreign Languages', 'Quizlet: Learn Languages & Vocab with Flashcards', 'busuu: Learn Languages - Spanish, English & More', 'Rosetta Stone: Learn to Speak & Read New Languages', 'Movies by Flixster, with Rotten Tomatoes', 'IMDb Movies & TV', 'Netflix', 'IMDb Movies & TV', 'Netflix', 'Tubi TV - Free Movies & TV', 'Crunchyroll - Everything Anime', 'STARZ', 'Crackle - Free TV & Movies', 'CBS - Full Episodes & Live TV', 'Nick', 'Hulu: Stream TV, Movies & more', 'FOX NOW - On Demand & Live TV', 'The CW', 'HISTORY: Watch TV Show Full Episodes & Specials', 'HBO NOW: Stream TV & Movies', 'A&E - Watch Full Episodes of TV Shows', 'VH1', 'Lifetime - Watch Full Episodes & Original Movies', 'BET NOW - Watch Shows', 'Netflix', 'Tubi TV - Free Movies & TV', 'Crackle - Free TV & Movies', 'Crunchyroll - Everything Anime', 'Nick', 'STARZ', 'Hulu: Stream TV, Movies & more', 'Food Network', 'FOX NOW - On Demand & Live TV', 'Movies by Flixster, with Rotten Tomatoes', 'HISTORY: Watch TV Show Full Episodes & Specials', 'Viki: Asian TV Dramas & Movies', 'The CW', 'Univision NOW - Live TV and On Demand', 'HBO NOW: Stream TV & Movies', 'A&E - Watch Full Episodes of TV Shows', 'VH1', 'SHOWTIME', 'MTV', 'Lifetime - Watch Full Episodes & Original Movies', 'Comedy Central', 'BET NOW - Watch Shows', 'FOX', 'Telemundo Now', 'Viki: Asian TV Dramas & Movies', 'Nick', 'Fandango Movies - Times + Tickets', 'Google Pay', 'Wells Fargo Daily Change', 'Credit Karma', 'Robinhood - Investing, No Fees', 'Digit Save Money Automatically', 'Acorns - Invest Spare Change', 'Money Lover: Expense Tracker, Budget Planner', 'Mint: Budget, Bills, Finance', 'Simple - Better Banking', 'PayPal', 'Google Pay', 'Wells Fargo Mobile', 'Capital One® Mobile', 'Grubhub: Food Delivery', 'Postmates Food Delivery: Order Eats & Alcohol', \"Domino's Pizza USA\", 'Chick-fil-A', 'Zomato - Restaurant Finder and Food Delivery App', 'Run with Map My Run', 'Weight Loss Running by Verv', 'Nike+ Run Club', 'Runtastic Running App & Mile Tracker', '8fit Workouts & Meal Planner', 'Daily Yoga - Yoga Fitness Plans', 'Pocket Yoga', 'Calorie Counter - MyFitnessPal', 'Weight Loss Running by Verv', 'Nike+ Run Club', 'Seven - 7 Minute Workout Training Challenge', 'Weight Watchers Mobile', 'Walk with Map My Walk', 'Workout Trainer: fitness coach', 'Run with Map My Run', 'Nike Training Club - Workouts & Fitness Plans', 'Fitbit Coach', 'Calorie Counter - MyFitnessPal', 'Endomondo - Running & Walking', 'Runkeeper - GPS Track Run Walk', 'Nike+ Run Club', 'Runtastic Running App & Mile Tracker', 'Calorie Counter - MyFitnessPal', 'Lose It! - Calorie Counter', 'Calorie Counter - MyNetDiary', '10 Best Foods for You', 'MyPlate Calorie Tracker', 'Weight Loss Tracker - RecStyle', 'Calorie Counter by FatSecret', 'Calorie Counter - Macros', 'My Diet Diary Calorie Counter', 'Lark - 24/7 Health Coach', 'Weight Watchers Mobile', 'Calorie Counter & Diet Tracker', 'MealLogger-Photo Food Journal', 'Health and Nutrition Guide', 'Food Calorie Calculator', 'Calorie Counter - MyFitnessPal', 'Lose It! - Calorie Counter', 'Relax Meditation: Sleep with Sleep Sounds', 'Meditation Music - Relax, Yoga', '21-Day Meditation Experience', 'Fabulous: Motivate Me! Meditate, Relax, Sleep', 'Calm - Meditate, Sleep, Relax', 'Relax Melodies: Sleep Sounds', 'Simple Habit Meditation', 'Headspace: Meditation & Mindfulness', 'Daily Yoga - Yoga Fitness Plans', 'Houzz Interior Design Ideas', 'Mortgage by Zillow: Calculator & Rates', 'Redfin Real Estate', 'Apartment List: Housing, Apt, and Property Rentals', 'Realtor.com Real Estate: Homes for Sale and Rent', 'Trulia Real Estate & Rentals', 'Zillow: Find Houses for Sale & Apartments for Rent', 'Apartments & Rentals - Zillow', 'Trulia Rent Apartments & Homes', 'Apartments.com Rental Search', 'Houzz Interior Design Ideas', 'Vaniday - Beauty Booking App', 'StyleSeat', 'JOANN - Crafts & Coupons', 'Fashion in Vogue', 'Wheretoget: Shop in style', 'My Dressing - Fashion closet', 'Chictopia', 'Scarf Fashion Designer', 'Fashion in Vogue', 'Zara', 'Subway Surfers', 'ROBLOX', 'Pou', '8 Ball Pool', 'Clash of Clans', 'Candy Crush Saga', 'Plants vs. Zombies FREE', 'My Talking Angela', 'Bubble Shooter', 'Word Search', 'Candy Crush Soda Saga', 'Fishdom', 'Block Puzzle', 'Clash Royale', 'Sniper 3D Gun Shooter: Free Shooting Games - FPS', 'Granny', 'Galaxy Attack: Alien Shooter', 'Angry Birds Rio', 'Zombie Catchers', 'Zombie Hunter King', 'Temple Run 2', 'Zombie Tsunami', 'Farm Heroes Saga', 'Super Jim Jump - pixel 3d', 'slither.io', 'Angry Birds Classic', 'Flow Free', 'ROBLOX', 'Helix Jump', 'Subway Surfers', 'Candy Crush Saga', 'Toon Blast', 'Granny', '8 Ball Pool', 'Sniper 3D Gun Shooter: Free Shooting Games - FPS', 'slither.io', 'Temple Run 2', 'Kick the Buddy', 'Magic Tiles 3', 'Bowmasters', 'Wordscapes', 'Block Craft 3D: Building Simulator Games For Free', 'Helix Jump', 'PUBG MOBILE', 'Wordscapes', 'DRAGON BALL LEGENDS', 'ROBLOX', 'Candy Crush Saga', '8 Ball Pool', 'Harry Potter: Hogwarts Mystery', 'PUBG MOBILE', 'MARVEL Strike Force', 'Merge Dragons!', 'Honkai Impact 3rd', 'Candy Crush Saga', 'ROBLOX', '8 Ball Pool', 'Subway Surfers', 'Candy Crush Soda Saga', 'Zombie Hunter King', 'Bubble Shooter', 'Toon Blast', 'Toy Blast', 'Clash Royale', 'Clash of Clans', 'Farm Heroes Saga', 'Plants vs. Zombies FREE', 'Word Search', 'Block Puzzle', 'Super Jim Jump - pixel 3d', 'Pou', 'Temple Run 2', 'Flow Free', 'Homescapes', 'Wordscapes', 'My Talking Angela', 'slither.io', 'Cooking Fever', 'Gardenscapes', 'Fishdom', 'Galaxy Attack: Alien Shooter', 'Score! Hero', 'Zombie Catchers', 'Magic Tiles 3', 'Granny', 'Dream League Soccer 2018', 'Fruits Bomb', 'Angry Birds Classic', 'Talking Tom Gold Run', 'Bowmasters', 'My Talking Tom', 'Hill Climb Racing', 'Sniper 3D Gun Shooter: Free Shooting Games - FPS', 'Pixel Art: Color by Number Game', 'Rider', 'Zombie Tsunami', 'Garena Free Fire', 'Subway Surfers', 'Helix Jump', 'Temple Run 2', 'slither.io', 'Bowmasters', 'Talking Tom Gold Run', 'Zombie Catchers', 'Sniper 3D Gun Shooter: Free Shooting Games - FPS', 'Miraculous Ladybug & Cat Noir - The Official Game', 'Kick the Buddy', 'DRAGON BALL LEGENDS', 'Zombie Hunter King', 'Garena Free Fire', 'Candy Crush Saga', 'Plants vs. Zombies FREE', 'Block Puzzle', 'Helix Jump', '8 Ball Pool', 'Bubble Shooter', 'Solitaire', 'Traffic Racer', 'Hill Climb Racing', 'Earn to Die 2', 'Bubble Shooter 2', 'Flow Free', 'Zombie Catchers', 'Angry Birds Rio', 'Candy Crush Jelly Saga', 'Cut the Rope FULL FREE', 'Jewels Star: OZ adventure', 'Hungry Shark Evolution', 'Angry Birds Classic', 'Best Fiends - Free Puzzle Game', 'Hill Climb Racing 2', 'Swamp Attack', 'Bowmasters', 'Magic Tiles 3', 'Block Puzzle Classic Legend !', 'Pixel Art: Color by Number Game', 'Score! Hero', 'Zombie Tsunami', 'DEAD TARGET: FPS Zombie Apocalypse Survival Games', 'Word Search', 'Farm Heroes Saga', 'YouTube Kids', 'Candy Bomb', 'ROBLOX', 'Solitaire', 'Princess Coloring Book', 'Hello Kitty Nail Salon', 'Dog Run - Pet Dog Simulator', 'Coloring book moana', 'Bubble Shooter', 'Barbie™ Fashion Closet', 'Minion Rush: Despicable Me Official Game', 'No.Draw - Colors by Number 2018', 'Duolingo: Learn Languages Free', 'Super ABC! Learning games for kids! Preschool apps', 'ROBLOX', 'PJ Masks: Moonlight Heroes', 'Minion Rush: Despicable Me Official Game', 'Dog Run - Pet Dog Simulator', 'Hot Wheels: Race Off', 'Farming Simulator 14', 'Mcqueen Coloring pages', 'Monster Truck Driver & Racing', 'Strawberry Shortcake BerryRush', 'DC Super Hero Girls™', 'Toca Kitchen 2', 'DC Super Hero Girls™', 'Strawberry Shortcake BerryRush', 'Disney Magic Kingdoms: Build Your Own Magical Park', 'Toca Life: City', 'Papumba Academy - Fun Learning For Kids', 'Kids Balloon Pop Game Free 🎈', 'Sounds for Toddlers FREE', 'Elmo Calls by Sesame Street', 'Sago Mini Friends', 'Papumba Academy - Fun Learning For Kids', 'Tee and Mo Bath Time Free', 'Bita and the Animals - Pelos Ares', 'TO-FU Oh!SUSHI', 'DreamWorks Friends', 'Avokiddo Emotions', 'Nighty Night Circus', 'Sago Mini Babies', \"Dr. Panda & Toto's Treehouse\", 'ROBLOX', 'PlayKids - Educational cartoons and games for kids', 'YouTube Kids', 'Baby Panda Care', 'Monster High™', 'Duolingo: Learn Languages Free', 'Shopkins World!', 'DisneyNOW – TV Shows & Games', 'Equestria Girls', 'Frozen Free Fall', 'Nick', 'Thomas & Friends: Race On!', 'Inside Out Thought Bubbles', 'Sago Mini Friends', 'School of Dragons', 'Peak – Brain Games & Training', 'Period Tracker', 'Vargo Anesthesia Mega App', 'Monash Uni Low FODMAP Diet', 'mySugr: the blood sugar tracker made just for you', 'Human Anatomy Atlas 2018: Complete 3D Human Body', 'ASCCP Mobile', 'Paramedic Protocol Provider', '2017 EMRA Antibiotic Guide', 'Essential Anatomy 3', 'EMT PASS', 'Block Buddy', 'EMT Review Plus', 'Journal Club: Medicine', 'Pedi STAT', 'AnatomyMapp', 'Diabetes & Diet Tracker', 'A Manual of Acupuncture', 'PTA Content Master', 'Muscle Premium - Human Anatomy, Kinesiology, Bones', 'Cardiac diagnosis (heart rate, arrhythmia)', 'Medical ID - In Case of Emergency (ICE)', 'IBM Micromedex Drug Info', 'Advanced Comprehension Therapy', 'Hospitalist Handbook', 'Teladoc Member', 'Ada - Your Health Guide', 'Ovia Fertility Tracker & Ovulation Calculator', 'Youper - AI Therapy', 'MoodSpace', 'Super Hearing Super Ear Amplifier', 'Penn State Health OnDemand', 'ScriptSave WellRx Rx Discounts', 'Free Blood Pressure', 'All Mental disorders', 'Nurse Grid', 'JH Blood Pressure Monitor', 'Blood Pressure', 'RT 516 VET', 'Anthem Anywhere', 'Sway Medical', \"fred's Pharmacy\", 'Breastfeeding Tracker Baby Log', 'Banfield Pet Health Tracker', '1800 Contacts - Lens Store', 'TextNow - free text + calls', 'Tumblr', 'Snapchat', 'Instagram', 'Periscope - Live Video', 'Snapchat', 'Instagram', 'Pinterest', 'MeetMe: Chat & Meet New People', 'ooVoo Video Calls, Messaging & Stories', 'LinkedIn', 'Tango - Live Video Broadcast', 'SayHi Chat, Meet New People', 'Tapatalk - 100,000+ Forums', 'Badoo - Free Chat & Dating App', 'Nextdoor - Local neighborhood news & classifieds', 'MeetMe: Chat & Meet New People', 'Meetup', 'Text Free: WiFi Calling App', 'textPlus: Free Text & Calls', 'Meetup', 'POF Free Dating App', 'MeetMe: Chat & Meet New People', 'Tagged - Meet, Chat & Dating', 'LOVOO', 'SKOUT - Meet, Chat, Go Live', 'Badoo - Free Chat & Dating App', 'Jaumo Dating, Flirt & Live Video', 'SayHi Chat, Meet New People', 'Couple - Relationship App', 'Meetup', 'Wish - Shopping Made Fun', 'SnipSnap Coupon App', 'Extreme Coupon Finder', 'Checkout 51: Grocery coupons', 'The Coupons App', 'RetailMeNot - Coupons, Deals & Discount Shopping', 'Groupon - Shop Deals, Discounts & Coupons', 'Stocard - Rewards Cards Wallet', 'Extreme Coupon Finder', 'eBay: Buy & Sell this Summer - Discover Deals Now!', 'Checkout 51: Grocery coupons', 'Gyft - Mobile Gift Card Wallet', 'Shopkick: Free Gift Cards, Shop Rewards & Deals', 'The Coupons App', 'Shopular: Coupons, Weekly Ads & Shopping Deals', 'Wish - Shopping Made Fun', 'Carousell: Snap-Sell, Chat-Buy', 'Walmart', 'Ibotta: Cash Back Savings, Rewards & Coupons App', 'AliExpress - Smarter Shopping, Better Living', 'LivingSocial - Local Deals', 'Amazon Shopping', 'RetailMeNot - Coupons, Deals & Discount Shopping', 'Poshmark - Buy & Sell Fashion', 'Target - now with Cartwheel', 'ZALORA Fashion Shopping', 'eBay: Buy & Sell this Summer - Discover Deals Now!', 'Fancy', \"Modcloth – Unique Indie Women's Fashion & Style\", 'Gyft - Mobile Gift Card Wallet', \"JackThreads: Men's Shopping\", 'LivingSocial - Local Deals', 'Zappos – Shoe shopping made simple', 'Wanelo Shopping', 'Etsy: Handmade & Vintage Goods', 'Groupon - Shop Deals, Discounts & Coupons', 'eBay: Buy & Sell this Summer - Discover Deals Now!', \"JackThreads: Men's Shopping\", 'AliExpress - Smarter Shopping, Better Living', 'Slickdeals: Coupons & Shopping', 'Target - now with Cartwheel', 'Wish - Shopping Made Fun', 'Fancy', 'ASOS', 'Google Photos', 'Shutterfly: Free Prints, Photo Books, Cards, Gifts', 'InstaBeauty -Makeup Selfie Cam', 'B612 - Beauty & Filter Camera', 'BeautyPlus - Easy Photo Editor & Selfie Camera', 'YouCam Perfect - Selfie Photo Editor', 'Google Photos', 'Muzy - Share photos & collages', 'QuickPic - Photo Gallery with Google Drive Support', 'Flickr', 'Shutterfly: Free Prints, Photo Books, Cards, Gifts', 'Open Camera', 'Camera for Android', 'Cymera Camera- Photo Editor, Filter,Collage,Layout', 'Candy Camera - selfie, beauty camera, photo editor', 'Camera360: Selfie Photo Editor with Funny Sticker', 'Facetune - For Free', 'Photo Editor Selfie Camera Filter & Mirror Image', 'HD Camera for Android', 'Photo Editor Pro', 'YouCam Makeup - Magic Selfie Makeovers', 'Photo Editor-', 'Camera for Android', 'Photo Editor', 'Cymera Camera- Photo Editor, Filter,Collage,Layout', 'Adobe Photoshop Express:Photo Editor Collage Maker', 'BeautyPlus - Easy Photo Editor & Selfie Camera', 'InstaSize Photo Filters & Collage Editor', 'Candy Camera - selfie, beauty camera, photo editor', 'YouCam Perfect - Selfie Photo Editor', 'Camera360: Selfie Photo Editor with Funny Sticker', 'Facetune - For Free', 'Shutterfly: Free Prints, Photo Books, Cards, Gifts', 'BeautyPlus - Easy Photo Editor & Selfie Camera', 'CBS Sports App - Scores, News, Stats & Watch Live', 'Yahoo Fantasy Sports - #1 Rated Fantasy App', 'ESPN', 'NFL', 'Bleacher Report: sports news, scores, & highlights', 'ESPN Fantasy Sports', 'theScore: Live Sports Scores, News, Stats & Videos', 'CBS Sports App - Scores, News, Stats & Watch Live', 'ESPN', 'MLB At Bat', 'CBS Sports App - Scores, News, Stats & Watch Live', 'WatchESPN', 'Hole19: Golf GPS App, Rangefinder & Scorecard', 'Yahoo Fantasy Sports - #1 Rated Fantasy App', 'ESPN Fantasy Sports', 'CBS Sports Fantasy', 'ESPN', 'Bleacher Report: sports news, scores, & highlights', 'theScore: Live Sports Scores, News, Stats & Videos', 'CBS Sports App - Scores, News, Stats & Watch Live', 'ESPN', 'Bleacher Report: sports news, scores, & highlights', 'MLB At Bat', 'theScore: Live Sports Scores, News, Stats & Videos', 'CBS Sports App - Scores, News, Stats & Watch Live', 'Yahoo Sports - scores, stats, news, & highlights', 'WatchESPN', 'FotMob - Live Soccer Scores', 'Yahoo Fantasy Sports - #1 Rated Fantasy App', 'ESPN', 'NFL', 'US Open Tennis Championships 2018', 'Bleacher Report: sports news, scores, & highlights', 'MLB At Bat', 'FIFA - Tournaments, Soccer News & Live Scores', 'theScore: Live Sports Scores, News, Stats & Videos', 'Golfshot: Golf GPS + Tee Times', 'BBC Sport', 'CBS Sports App - Scores, News, Stats & Watch Live', 'Yahoo Sports - scores, stats, news, & highlights', 'WatchESPN', 'MLB Ballpark', 'FOX Sports: Live Streaming, Scores & News', 'Fantasy Football', 'PGA TOUR', 'UFC', 'trivago: Hotels & Travel', 'Expedia Hotels, Flights & Car Rental Travel Deals', 'TripAdvisor Hotels Flights Restaurants Attractions', 'Skyscanner', 'Booking.com Travel Deals', 'TripAdvisor Hotels Flights Restaurants Attractions', 'Priceline Hotel Deals, Rental Cars & Flights', 'United Airlines', 'Expedia Hotels, Flights & Car Rental Travel Deals', 'Southwest Airlines', 'Hopper - Watch & Book Flights', 'Fly Delta', 'KAYAK Flights, Hotels & Cars', 'American Airlines', 'Skyscanner', 'Priceline Hotel Deals, Rental Cars & Flights', 'trivago: Hotels & Travel', 'Expedia Hotels, Flights & Car Rental Travel Deals', 'KAYAK Flights, Hotels & Cars', 'Orbitz - Hotels, Flights & Package Deals', 'Skyscanner', 'Hotels.com: Book Hotel Rooms & Find Vacation Deals', 'Booking.com Travel Deals', 'Hostelworld: Hostels & Cheap Hotels Travel App', 'TripAdvisor Hotels Flights Restaurants Attractions', 'Airbnb', 'Skyscanner', 'HotelTonight: Book amazing deals at great hotels', 'Maps - Navigate & Explore', 'Google Street View', 'Calculator', 'Gboard - the Google Keyboard', 'ZEDGE™ Ringtones & Wallpapers', 'ZEDGE™ Ringtones & Wallpapers', 'Nova Launcher', 'Apex Launcher', 'Smart Launcher 5', 'Google Keep', 'Evernote – Organizer, Planner for Notes & Memos', 'ES File Explorer File Manager', 'Microsoft Word', 'Google Drive', 'Adobe Acrobat Reader', 'Google PDF Viewer', 'Microsoft Excel', 'Google Docs', 'Microsoft PowerPoint', 'Microsoft OneNote', 'Google Calendar', 'Google Keep', 'Wunderlist: To-Do List & Tasks', 'Evernote – Organizer, Planner for Notes & Memos', 'Any.do: To-do list, Calendar, Reminders & Planner', 'Todoist: To-do lists for task management & errands', 'Microsoft OneNote', 'Planner Pro-Personal Organizer', 'Google Calendar', 'Google Drive', 'Microsoft OneDrive', 'Dropbox', 'MX Player', 'Video Editor', 'Google News', 'Flipboard: News For Our Time', 'BBC News', 'Fox News – Breaking News, Live Video & News Alerts', 'USA TODAY', 'CNN Breaking US & World News', 'Twitter', 'BBC News', 'NPR News', 'Fox News – Breaking News, Live Video & News Alerts', 'Haystack TV: Local & World News - Free', 'ABC News - US & World News', 'USA TODAY', 'NBC News', 'The Wall Street Journal: Business & Market News', 'CNN Breaking US & World News', 'NYTimes - Latest News', 'Newsroom: News Worth Sharing', 'Google News', 'BuzzFeed: News, Tasty, Quizzes', 'Flipboard: News For Our Time', 'Snapchat', 'Flashlight', 'Pou', 'Agar.io', 'Angry Birds Classic', 'My Talking Tom', 'Netflix', 'Bubble Shooter', 'Adobe Acrobat Reader', 'Subway Surfers', 'LEGO® Juniors Create & Cruise', 'WhatsApp Messenger', 'Google Translate', 'Pokémon GO', 'Instagram', 'My Talking Angela', 'YouTube Kids', 'PAC-MAN', 'Colorfy: Coloring Book for Adults - Free', 'Toca Kitchen 2', 'Amazon Shopping', 'Chick-fil-A', 'YouTube', 'Flow Free', 'Microsoft Word', \"Alto's Adventure\", 'Zombie Tsunami', 'Facebook', 'B612 - Beauty & Filter Camera', 'Block Craft 3D: Building Simulator Games For Free', '8 Ball Pool', 'VPN Free - Betternet Hotspot VPN & Private Browser', 'EMT Tutor NREMT-B Study Guide', 'EMT-B Pocket Prep', 'UC Browser - Fast Download Private & Secure', 'Hungry Shark Evolution', 'Diary with lock', 'Clash of Clans', 'Clash Royale', 'C Programming', 'CppDroid - C/C++ IDE', 'Candy Crush Saga', 'Google Chrome: Fast & Secure', 'Learn C++', 'Hill Climb Racing', 'ZEDGE™ Ringtones & Wallpapers', 'Minion Rush: Despicable Me Official Game', 'Google Duo - High Quality Video Calls', 'Crossy Road', 'Temple Run 2', 'Dropbox', 'Sniper 3D Gun Shooter: Free Shooting Games - FPS', 'Plants vs. Zombies FREE', 'Dream League Soccer 2018', 'eBay: Buy & Sell this Summer - Discover Deals Now!', 'ESPN', 'ES File Explorer File Manager', 'Firefox Browser fast & private', 'E*TRADE Mobile', 'WWE', 'Amazon Kindle', 'Evernote – Organizer, Planner for Notes & Memos', 'Microsoft Edge', 'Microsoft Outlook', 'Pinterest', 'ClassDojo', 'The Coupons App', 'Ebook Reader', 'Gmail', 'Maps - Navigate & Explore', 'AliExpress - Smarter Shopping, Better Living', 'Flipkart Online Shopping App', 'Wish - Shopping Made Fun', 'Messenger – Text and Video Chat for Free', 'Facebook Lite', 'Messenger Lite: Free Calls & Messages', 'Twitter', 'LINE: Free Calls & Messages', 'imo beta free calls and text', 'Geometry Dash World', 'Google+', 'PUBG MOBILE', 'Gboard - the Google Keyboard', 'Granny', 'Google', 'Hangouts', 'G Cloud Backup', 'Google Drive', 'Helix Jump', 'H&M', 'H TV', 'Talking Ben the Dog', 'imo free video calls and chat', 'free video calls and chat', 'slither.io', 'POF Free Dating App', 'Skype - free IM & video calls', 'Sonic Dash', 'Text Free: WiFi Calling App', 'Talkatone: Free Texts, Calls & Phone Number', 'Textgram - write on photos', 'Zombie Catchers', 'Jetpack Joyride', 'Anger of stick 5 : zombie', 'Cut the Rope FULL FREE', 'Turbo FAST', 'K PLUS', 'PowerDirector Video Editor App: 4K, Slow Mo & More', 'Fuzzy Numbers: Pre-K Number Foundation', 'KakaoTalk: Free Calls & Text', 'LiveMe - Video chat, new friends, and make money', 'Talking Tom Gold Run', 'letgo: Buy & Sell Used Stuff, Cars & Real Estate', 'Love Balls', 'Last Day on Earth: Survival', 'Minecraft', 'MEGA', 'MX Player', 'I’m Expecting - Pregnancy App', 'Diabetes:M', 'Opera Mini - fast web browser', 'Opera Browser: Fast and Secure', 'O-Star', 'PicsArt Photo Studio: Collage Maker & Pic Editor', 'Quora', 'ROBLOX', 'SHAREit - Transfer & Share', 'Tumblr', 'Topbuzz: Breaking News, Videos & Funny GIFs', 'Twitch: Livestream Multiplayer Games & Esports', 'Telegram', 'myAT&T', 'Truecaller: Caller ID, SMS spam blocking & Dialer', 'Showtime Anytime', 'UC Browser Mini -Tiny Fast Private & Secure', 'Uber', 'Viber Messenger', 'VLC for Android', 'Vigo Video', 'WeChat', 'Wattpad 📖 Free Books', 'Waze - GPS, Maps, Traffic Alerts & Live Navigation', 'Dating App, Flirt & Chat : W-Match', 'WPS Office - Word, Docs, PDF, Note, Slide & Sheet', 'LINE WEBTOON - Free Comics', 'WhatsApp Business', 'We Heart It', 'TripAdvisor Hotels Flights Restaurants Attractions', 'Telegram X', 'Share Music & Transfer Files - Xender', 'Yandex Browser with Protect', 'YouTube Studio', 'Yahoo Mail – Stay Organized', 'PBS KIDS Video', 'YouTube Gaming', 'GO Keyboard - Emoticon keyboard, Free Theme, GIF', 'Zello PTT Walkie Talkie', 'Z Camera - Photo Editor, Beauty Selfie, Collage', 'Six Pack in 30 Days - Abs Workout', 'Angry Birds 2', 'Angry Birds Rio', 'AC - Tips & News for Android™', 'CM Browser - Ad Blocker , Fast Download , Privacy', 'Google Ads', 'Mobi Calculator free & AD free!', 'Flipp - Weekly Shopping', 'A&E - Watch Full Episodes of TV Shows', 'Camera FV-5 Lite', 'Cardiac diagnosis (heart rate, arrhythmia)', 'Open Camera', 'All Football - Latest News & Videos', 'Maricopa AH', 'Youper - AI Therapy', 'Animal Jam - Play Wild!', 'RULES OF SURVIVAL', 'Amazon for Tablets', 'Final Fantasy XV: A New Empire', 'The Sims™ FreePlay', 'Text free - Free Text + Call', 'Google Photos', '365Scores - Live Scores', 'DINO HUNTER: DEADLY SHORES', 'AP Mobile - Breaking News', 'Reuters News', 'Puffin Web Browser', 'AccuWeather: Daily Forecast & Live Weather Reports', 'Moovit: Bus Time & Train Time Live Info', 'Jurassic World™ Alive', 'Houzz Interior Design Ideas', 'NYTimes - Latest News', 'Overstock – Home Decor, Furniture Shopping', 'Google Voice', 'Choices: Stories You Play', 'Runtastic Sleep Better: Sleep Cycle & Smart Alarm', 'Google Pay', 'Ringtone Maker', 'Google Allo', 'Plants vs. Zombies™ Heroes', 'CM FILE MANAGER HD', 'MLB At Bat', 'HotelTonight: Book amazing deals at great hotels', 'realestate.com.au - Buy, Rent & Sell Property', 'Video Player All Format', 'DEER HUNTER 2018', 'Video Editor', 'Google Play Games', 'ai.type Free Emoji Keyboard', 'Manga AZ - Manga Comic Reader', 'British Airways', 'American Airlines', 'Anthem BC Anywhere', 'Transit: Real-Time Transit App', 'PMHNP-BC Pocket Prep', 'BeautyPlus - Easy Photo Editor & Selfie Camera', 'Bowmasters', 'Nick', 'mySugr: the blood sugar tracker made just for you', 'Backgrounds HD (Wallpapers)', 'Blur Image Background', 'Newegg Mobile', 'Moco - Chat, Meet People', 'Hot or Not - Find someone right now', 'MeetMe: Chat & Meet New People', 'TED', 'English Dictionary - Offline', 'OkCupid Dating', 'Mint: Budget, Bills, Finance', 'English Grammar Test', 'Daily Manga - Comic & Webtoon', 'BBM - Free Calls & Messages', 'BeyondMenu Food Delivery', 'NOOK: Read eBooks & Magazines', 'NOOK App for NOOK Devices', 'Badoo - Free Chat & Dating App', 'HBO GO: Stream with TV Package', 'No Crop & Square for Instagram', 'Hungry Shark World', 'iBP Blood Pressure', 'Blood Pressure', 'Blood Pressure Log - MyDiary', 'Blood Pressure(BP) Diary', 'BP Journal - Blood Pressure Diary', 'Blood Pressure Monitor', 'Blood Pressure Companion', 'Free Blood Pressure', 'High Blood Pressure Symptoms', 'QR Scanner & Barcode Scanner 2018', 'Camera FV-5', 'Camera MX - Free Photo & Video Camera', 'Bleacher Report: sports news, scores, & highlights', 'Cardboard', 'Kick the Buddy', 'Maps & GPS Navigation — OsmAnd', 'Beautiful Widgets Pro', 'Beautiful Widgets Free', 'HD Widgets', 'Color by Number – New Coloring Book', 'Photo Editor by Aviary', 'UNICORN - Color By Number & Pixel Art Coloring', 'Elmo Calls by Sesame Street', '420 BZ Budeze Delivery', 'BZWBK24 mobile', 'Zoosk Dating App: Meet Singles', 'Cricbuzz - Live Cricket Scores & News', 'Cheapflights – Flight Search', 'Chrome Beta', 'Chrome Dev', 'CJmall', 'Credit Karma', 'Castle Clash: Heroes of the Empire US', 'CM Launcher 3D - Theme, Wallpapers, Efficient', 'CM Locker - Security Lockscreen', 'CM Flashlight (Compass, SOS)', 'Ruler', 'QuickPic - Photo Gallery with Google Drive Support', 'Cartoon Network App', 'LEGO® TV', 'DisneyNOW – TV Shows & Games', 'Brit + Co', 'CT Scan Cross Sectional Anatomy', 'Shadow Fight 2', 'Curriculum vitae App CV Builder Free Resume Maker', 'The CW', 'CW Seed', 'Hulu: Stream TV, Movies & more', 'Cymera Camera- Photo Editor, Filter,Collage,Layout', 'Camera360 Lite - Selfie Camera', 'Mapy.cz - Cycling & Hiking offline maps', 'Face Filter, Selfie Editor - Sweet Camera', 'Metal Soldiers 2', \"COOKING MAMA Let's Cook!\", 'Run Sausage Run!', 'Knife Hit', 'DRAGON BALL LEGENDS', 'DC Comics', 'DC Super Hero Girls™', 'MARVEL Contest of Champions', 'MARVEL Strike Force', 'wetter.com - Weather and Radar', 'Babbel – Learn Languages', 'CallApp: Caller ID, Blocker & Phone Call Recorder', 'LINE Camera - Photo editor', 'Racing in Car 2', 'Google PDF Viewer', 'Periscope - Live Video', 'Dungeon Hunter Champions: Epic Online Action RPG', 'Red Bull TV: Live Sports, Music & Entertainment', 'Idle Heroes', 'Duolingo: Learn Languages Free', 'Free phone calls, free texting SMS on free number', 'Phone Tracker : Family Locator', 'My Photo Keyboard', 'Whoscall - Caller ID & Block', 'Google Sheets', 'Video Downloader', 'Google Docs', 'Any.do: To-do list, Calendar, Reminders & Planner', 'Notepad & To do list', 'Polaris Office - Word, Docs, Sheets, Slide, PDF', 'Google Keep', 'Do It Later: Tasks & To-Dos', 'Todoist: To-do lists for task management & errands', 'To-Do Calendar Planner', 'Wunderlist: To-Do List & Tasks', 'TickTick: To Do List with Reminder, Day Planner', 'ColorNote Notepad Notes', 'Apex Launcher', 'Dude Perfect 2', 'Dairy Queen', 'SONIC Drive-In', \"McDonald's\", 'Wendy’s – Food and Offers', \"Dunkin' Donuts\", 'SUBWAY®', 'Panera Bread', 'Starbucks', \"Dr. Panda & Toto's Treehouse\", 'Cache Cleaner-DU Speed Booster (booster & cleaner)', 'DU Browser—Browse fast & fun', 'Real Racing 3', 'Equestria Girls', 'My Little Pony Celebration', 'Miraculous Ladybug & Cat Noir - The Official Game', 'My Little Pony: Harmony Quest', 'PJ Masks: Moonlight Heroes', 'The Emirates App', 'Phogy, 3D Camera', 'Weather by eltiempo.es', 'The Game of Life', 'Spanish English Translator', 'Human Anatomy Atlas 2018: Complete 3D Human Body', \"Game for KIDS: KIDS match'em\", 'CBS Sports App - Scores, News, Stats & Watch Live', 'Yahoo Fantasy Sports - #1 Rated Fantasy App', 'Dictionary - Merriam-Webster', 'Edmodo', 'busuu: Learn Languages - Spanish, English & More', 'Chess Free', 'Oxford Dictionary of English : Free', 'Masha and the Bear Child Games', 'Frozen Free Fall', 'Episode - Choose Your Story', 'The NBC App - Watch Live TV and Full Episodes', 'Moto File Manager', 'HBO NOW: Stream TV & Movies', 'Moneycontrol – Stocks, Sensex, Mutual Funds, IPO', 'CNBC: Breaking Business News & Live Market Data', 'Google Earth', 'Groupon - Shop Deals, Discounts & Coupons', 'Google News', 'Amino: Communities and Chats', 'Nike Training Club - Workouts & Fitness Plans', 'Hangouts Dialer - Call Phones', 'Offline Maps & Navigation', 'Strawberry Shortcake Ice Cream Island', 'Home Workout - No Equipment', 'Home Security Camera WardenCam - reuse old phones', 'Food Network', 'Web Browser for Android', 'Airway Ex - Intubate. Anesthetize. Train.', 'FilterGrid - Cam&Photo Editor', 'Messages, Text and Video Chat for Messenger', 'All Social Networks', 'Premier League - Official App', 'Farm Heroes Saga', 'ESPN Fantasy Sports', 'Fallout Shelter', 'Facebook Pages Manager', 'Facebook Ads Manager', 'Who Viewed My Facebook Profile - Stalkers Visitors', 'The 5th Stand', 'Garena Free Fire', 'osmino Wi-Fi: free WiFi', 'Fun Kid Racing - Motocross', 'Podcast App: Free & Offline Podcasts by Player FM', 'Motorola FM Radio', 'FarmersOnly Dating', 'Firefox Focus: The privacy browser', 'FP Notebook', 'Slickdeals: Coupons & Shopping', 'AAFP']\n"
     ]
    }
   ],
   "source": [
    "duplicate_apps_google = []\n",
    "unique_apps_google = []\n",
    "\n",
    "for app in google:\n",
    "    name = app[0]\n",
    "    if name in unique_apps_google:\n",
    "        duplicate_apps_google.append(name)\n",
    "    else:\n",
    "        unique_apps_google.append(name)\n",
    "        \n",
    "print('Number of duplicate Google apps:', len(duplicate_apps_google))\n",
    "print('\\n')\n",
    "print('Examples of duplicate Google apps:', duplicate_apps_google[:])"
   ]
  },
  {
   "cell_type": "markdown",
   "metadata": {},
   "source": [
    "Checking for duplicates for the App Store dataset."
   ]
  },
  {
   "cell_type": "code",
   "execution_count": 80,
   "metadata": {},
   "outputs": [
    {
     "name": "stdout",
     "output_type": "stream",
     "text": [
      "Number of duplicate apps: 2\n",
      "\n",
      "\n",
      "Examples of duplicate apps: ['Mannequin Challenge', 'VR Roller Coaster']\n"
     ]
    }
   ],
   "source": [
    "duplicate_apps_apple = []\n",
    "unique_apps_apple = []\n",
    "\n",
    "for app in apple:\n",
    "    name = app[1]\n",
    "    if name in unique_apps_apple:\n",
    "        duplicate_apps_apple.append(name)\n",
    "    else:\n",
    "        unique_apps_apple.append(name)\n",
    "        \n",
    "print('Number of duplicate apps:', len(duplicate_apps_apple))\n",
    "print('\\n')\n",
    "print('Examples of duplicate apps:', duplicate_apps_apple[:])"
   ]
  },
  {
   "cell_type": "markdown",
   "metadata": {},
   "source": [
    "The criterion used to remove duplicates will be to keep the most recent review with the highest number of reviews(number of reviews), and remove all previous duplicates for the Google Play and App Store. "
   ]
  },
  {
   "cell_type": "code",
   "execution_count": 81,
   "metadata": {},
   "outputs": [
    {
     "name": "stdout",
     "output_type": "stream",
     "text": [
      "Expected length: 9659\n",
      "Actual length of reviews_max: 9659\n"
     ]
    }
   ],
   "source": [
    "reviews_max_google = {}\n",
    "\n",
    "for app in google:\n",
    "    name = app[0]\n",
    "    n_reviews = float(app[3])\n",
    "    \n",
    "    if name in reviews_max_google and reviews_max_google[name] < n_reviews:\n",
    "        reviews_max_google[name] = n_reviews\n",
    "    elif name not in reviews_max_google:\n",
    "        reviews_max_google[name] = n_reviews \n",
    "\n",
    "print('Expected length:', len(google) - len(duplicate_apps_google))\n",
    "print('Actual length of reviews_max:', len(reviews_max_google))"
   ]
  },
  {
   "cell_type": "code",
   "execution_count": 82,
   "metadata": {},
   "outputs": [
    {
     "name": "stdout",
     "output_type": "stream",
     "text": [
      "Expected length: 7195\n",
      "Actual length of reviews_max: 7195\n"
     ]
    }
   ],
   "source": [
    "reviews_max_apple = {}\n",
    "\n",
    "for app in apple:\n",
    "    name = app[1]\n",
    "    n_reviews = float(app[5])\n",
    "    \n",
    "    if name in reviews_max_apple and reviews_max_apple[name] < n_reviews:\n",
    "        reviews_max_apple[name] = n_reviews\n",
    "    elif name not in reviews_max_apple:\n",
    "        reviews_max_apple[name] = n_reviews \n",
    "\n",
    "print('Expected length:', len(apple) - len(duplicate_apps_apple))\n",
    "print('Actual length of reviews_max:', len(reviews_max_apple))"
   ]
  },
  {
   "cell_type": "markdown",
   "metadata": {},
   "source": [
    "Using the dictionary reviews_max that was created above by data cleaning and removing the duplicate rows."
   ]
  },
  {
   "cell_type": "code",
   "execution_count": 83,
   "metadata": {},
   "outputs": [
    {
     "name": "stdout",
     "output_type": "stream",
     "text": [
      "['Photo Editor & Candy Camera & Grid & ScrapBook', 'ART_AND_DESIGN', '4.1', '159', '19M', '10,000+', 'Free', '0', 'Everyone', 'Art & Design', 'January 7, 2018', '1.0.0', '4.0.3 and up']\n",
      "\n",
      "\n",
      "['U Launcher Lite – FREE Live Cool Themes, Hide Apps', 'ART_AND_DESIGN', '4.7', '87510', '8.7M', '5,000,000+', 'Free', '0', 'Everyone', 'Art & Design', 'August 1, 2018', '1.2.4', '4.0.3 and up']\n",
      "\n",
      "\n",
      "['Sketch - Draw & Paint', 'ART_AND_DESIGN', '4.5', '215644', '25M', '50,000,000+', 'Free', '0', 'Teen', 'Art & Design', 'June 8, 2018', 'Varies with device', '4.2 and up']\n",
      "\n",
      "\n",
      "Number of rows: 9659\n",
      "Number of columns: 13\n"
     ]
    }
   ],
   "source": [
    "google_clean = []\n",
    "already_added = []\n",
    "\n",
    "for app in google:\n",
    "    name = app[0]\n",
    "    n_reviews = float(app[3])\n",
    "    \n",
    "    if (reviews_max_google[name] == n_reviews) and (name not in already_added):\n",
    "            google_clean.append(app)\n",
    "            already_added.append(name)\n",
    "            \n",
    "explore_data(google_clean, 0, 3, True)"
   ]
  },
  {
   "cell_type": "code",
   "execution_count": 84,
   "metadata": {},
   "outputs": [
    {
     "name": "stdout",
     "output_type": "stream",
     "text": [
      "['284882215', 'Facebook', '389879808', 'USD', '0.0', '2974676', '212', '3.5', '3.5', '95.0', '4+', 'Social Networking', '37', '1', '29', '1']\n",
      "\n",
      "\n",
      "['389801252', 'Instagram', '113954816', 'USD', '0.0', '2161558', '1289', '4.5', '4.0', '10.23', '12+', 'Photo & Video', '37', '0', '29', '1']\n",
      "\n",
      "\n",
      "['529479190', 'Clash of Clans', '116476928', 'USD', '0.0', '2130805', '579', '4.5', '4.5', '9.24.12', '9+', 'Games', '38', '5', '18', '1']\n",
      "\n",
      "\n",
      "Number of rows: 7195\n",
      "Number of columns: 16\n"
     ]
    }
   ],
   "source": [
    "apple_clean = []\n",
    "already_added_apple = []\n",
    "\n",
    "for app in apple:\n",
    "    name = app[1]\n",
    "    n_reviews = float(app[5])\n",
    "    \n",
    "    if (reviews_max_apple[name] == n_reviews) and (name not in already_added_apple):\n",
    "            apple_clean.append(app)\n",
    "            already_added_apple.append(name)\n",
    "            \n",
    "explore_data(apple_clean, 0, 3, True)"
   ]
  },
  {
   "cell_type": "markdown",
   "metadata": {},
   "source": [
    "## Removing Non-English Apps\n",
    "Creating a function that takes in a string and returns False if there's any character in the string that doesn't belong to the set of common English characters and True otherwise to remove any apps that are not English-based. The filter function that is used is that the app will be removed from the database, if the app has more than 3 emoji or special characters(this filter function is not completely perfect, but fairly effective)."
   ]
  },
  {
   "cell_type": "code",
   "execution_count": 85,
   "metadata": {},
   "outputs": [
    {
     "name": "stdout",
     "output_type": "stream",
     "text": [
      "True\n",
      "False\n",
      "True\n",
      "True\n"
     ]
    }
   ],
   "source": [
    "def is_english(string):\n",
    "    sum = 0\n",
    "    for character in string:\n",
    "        if ord(character) > 127:\n",
    "           sum += 1\n",
    "    if sum > 3:\n",
    "        return False\n",
    "    else:\n",
    "        return True        \n",
    "        \n",
    "print(is_english('Instagram'))\n",
    "print(is_english('爱奇艺PPS -《欢乐颂2》电视剧热播'))\n",
    "print(is_english('Docs To Go™ Free Office Suite'))\n",
    "print(is_english('Instachat 😜'))"
   ]
  },
  {
   "cell_type": "markdown",
   "metadata": {},
   "source": [
    "Examining the App Store and the Google Play datasets, if an app is identified as English, append to English list and explore how many rows are remaining for each English dataset."
   ]
  },
  {
   "cell_type": "code",
   "execution_count": 86,
   "metadata": {},
   "outputs": [
    {
     "name": "stdout",
     "output_type": "stream",
     "text": [
      "['Photo Editor & Candy Camera & Grid & ScrapBook', 'ART_AND_DESIGN', '4.1', '159', '19M', '10,000+', 'Free', '0', 'Everyone', 'Art & Design', 'January 7, 2018', '1.0.0', '4.0.3 and up']\n",
      "\n",
      "\n",
      "['U Launcher Lite – FREE Live Cool Themes, Hide Apps', 'ART_AND_DESIGN', '4.7', '87510', '8.7M', '5,000,000+', 'Free', '0', 'Everyone', 'Art & Design', 'August 1, 2018', '1.2.4', '4.0.3 and up']\n",
      "\n",
      "\n",
      "['Sketch - Draw & Paint', 'ART_AND_DESIGN', '4.5', '215644', '25M', '50,000,000+', 'Free', '0', 'Teen', 'Art & Design', 'June 8, 2018', 'Varies with device', '4.2 and up']\n",
      "\n",
      "\n",
      "Number of rows: 9614\n",
      "Number of columns: 13\n",
      "\n",
      "\n",
      "['284882215', 'Facebook', '389879808', 'USD', '0.0', '2974676', '212', '3.5', '3.5', '95.0', '4+', 'Social Networking', '37', '1', '29', '1']\n",
      "\n",
      "\n",
      "['389801252', 'Instagram', '113954816', 'USD', '0.0', '2161558', '1289', '4.5', '4.0', '10.23', '12+', 'Photo & Video', '37', '0', '29', '1']\n",
      "\n",
      "\n",
      "['529479190', 'Clash of Clans', '116476928', 'USD', '0.0', '2130805', '579', '4.5', '4.5', '9.24.12', '9+', 'Games', '38', '5', '18', '1']\n",
      "\n",
      "\n",
      "Number of rows: 6181\n",
      "Number of columns: 16\n"
     ]
    }
   ],
   "source": [
    "google_english = []\n",
    "apple_english = []\n",
    "     \n",
    "for app in google_clean:\n",
    "    name = app[0]\n",
    "    if is_english(name):\n",
    "        google_english.append(app)\n",
    "\n",
    "for app in apple_clean:\n",
    "    name = app[1]\n",
    "    if is_english(name):\n",
    "        apple_english.append(app)\n",
    "        \n",
    "explore_data(google_english, 0, 3, True)\n",
    "print('\\n')\n",
    "explore_data(apple_english, 0, 3, True)"
   ]
  },
  {
   "cell_type": "markdown",
   "metadata": {},
   "source": [
    "## Isolating the Free Apps\n",
    "We only consider apps that are free to download and install, and our main source of revenue consists of in-app ads. Our datasets contain both free and non-free apps, we'll isolate only the free apps and then perform our analysis."
   ]
  },
  {
   "cell_type": "code",
   "execution_count": 87,
   "metadata": {
    "scrolled": true
   },
   "outputs": [
    {
     "name": "stdout",
     "output_type": "stream",
     "text": [
      "The number of free apps in the App Store are: 3220\n",
      "The number of free apps in Google Play are: 8864\n",
      "\n",
      "We have 3220 Apple and 8064 Google apps, which should be enough to continue our analysis.\n"
     ]
    }
   ],
   "source": [
    "apple_free = []\n",
    "google_free = []\n",
    "\n",
    "for app in apple_english:\n",
    "    name = app[1]\n",
    "    price = app[4]\n",
    "    if (price == '0.0') and (name not in apple_free):\n",
    "        apple_free.append(name)\n",
    "        \n",
    "print('The number of free apps in the App Store are:', len(apple_free))\n",
    "\n",
    "for app in google_english:\n",
    "    name = app[0]\n",
    "    price = app[7]\n",
    "    if (price == '0') and (name not in google_free):\n",
    "        google_free.append(name)\n",
    "        \n",
    "print('The number of free apps in Google Play are:', len(google_free))\n",
    "print('\\nWe have 3220 Apple and 8064 Google apps, which should be enough to continue our analysis.')"
   ]
  },
  {
   "cell_type": "markdown",
   "metadata": {},
   "source": [
    "## Most Common Apps by Genre\n",
    "Our goal is to determine the kinds of apps that are likely to attract more users because the number of people using our apps affect our revenue.\n",
    "\n",
    "To minimize risks and overhead, our validation strategy for an app has the following three steps:\n",
    "1. Build a minimal Android version of the app, and add it to Google Play.\n",
    "2. If the app has a good response from users, we develop it further.\n",
    "3. If the app is profitable after six months, we build an iOS version of the app and add it to the App Store.\n",
    "\n",
    "Our end goal is to add the app on both Google Play and the App Store, and we need to find app profiles that are successful in both markets.\n",
    "\n",
    "To begin our analysis, we determine the most common genres for each market by building frequency tables for our datasets and organizing the indexed column in descending order."
   ]
  },
  {
   "cell_type": "code",
   "execution_count": 88,
   "metadata": {},
   "outputs": [
    {
     "name": "stdout",
     "output_type": "stream",
     "text": [
      "The genres of free apps in the App Store are: ['Social Networking', 'Photo & Video', 'Games', 'Music', 'Reference', 'Health & Fitness', 'Weather', 'Utilities', 'Travel', 'Shopping', 'News', 'Navigation', 'Lifestyle', 'Entertainment', 'Food & Drink', 'Sports', 'Book', 'Finance', 'Education', 'Productivity', 'Business', 'Catalogs', 'Medical']\n",
      "\n",
      "The genres of free apps in Google Play are: ['Art & Design', 'Art & Design;Creativity', 'Auto & Vehicles', 'Beauty', 'Books & Reference', 'Business', 'Comics', 'Comics;Creativity', 'Communication', 'Dating', 'Education', 'Education;Creativity', 'Education;Education', 'Education;Pretend Play', 'Education;Brain Games', 'Entertainment', 'Entertainment;Brain Games', 'Entertainment;Creativity', 'Entertainment;Music & Video', 'Events', 'Finance', 'Food & Drink', 'Health & Fitness', 'House & Home', 'Libraries & Demo', 'Lifestyle', 'Lifestyle;Pretend Play', 'Card', 'Arcade', 'Puzzle', 'Racing', 'Sports', 'Casual', 'Simulation', 'Adventure', 'Trivia', 'Action', 'Word', 'Role Playing', 'Strategy', 'Board', 'Simulation;Education', 'Music', 'Action;Action & Adventure', 'Casual;Brain Games', 'Educational;Creativity', 'Puzzle;Brain Games', 'Educational;Education', 'Casual;Pretend Play', 'Educational;Brain Games', 'Art & Design;Pretend Play', 'Educational;Pretend Play', 'Entertainment;Education', 'Casual;Education', 'Casual;Creativity', 'Casual;Action & Adventure', 'Music;Music & Video', 'Arcade;Pretend Play', 'Adventure;Action & Adventure', 'Role Playing;Action & Adventure', 'Simulation;Pretend Play', 'Puzzle;Creativity', 'Simulation;Action & Adventure', 'Racing;Action & Adventure', 'Sports;Action & Adventure', 'Educational;Action & Adventure', 'Arcade;Action & Adventure', 'Entertainment;Action & Adventure', 'Art & Design;Action & Adventure', 'Puzzle;Action & Adventure', 'Education;Action & Adventure', 'Strategy;Action & Adventure', 'Music & Audio;Music & Video', 'Health & Fitness;Education', 'Board;Action & Adventure', 'Board;Brain Games', 'Board;Pretend Play', 'Casual;Music & Video', 'Education;Music & Video', 'Role Playing;Pretend Play', 'Entertainment;Pretend Play', 'Card;Action & Adventure', 'Medical', 'Social', 'Shopping', 'Photography', 'Travel & Local', 'Travel & Local;Action & Adventure', 'Tools', 'Tools;Education', 'Personalization', 'Productivity', 'Parenting', 'Parenting;Music & Video', 'Parenting;Education', 'Parenting;Brain Games', 'Weather', 'Video Players & Editors', 'Video Players & Editors;Music & Video', 'Video Players & Editors;Creativity', 'News & Magazines', 'Maps & Navigation', 'Health & Fitness;Action & Adventure', 'Educational', 'Casino', 'Adventure;Brain Games', 'Trivia;Education', 'Lifestyle;Education', 'Books & Reference;Creativity', 'Books & Reference;Education', 'Puzzle;Education', 'Adventure;Education', 'Role Playing;Education', 'Role Playing;Brain Games', 'Strategy;Education', 'Racing;Pretend Play', 'Communication;Creativity', 'Strategy;Creativity']\n",
      "\n",
      "\n",
      "A sorted frequency table for the columns prime_genre for the App Store.\n",
      "Games : 54.84549425659279\n",
      "Entertainment : 7.264196731920401\n",
      "Education : 6.633230868791458\n",
      "Photo & Video : 5.516906649409481\n",
      "Utilities : 3.446044329396538\n",
      "Productivity : 2.7180067950169877\n",
      "Health & Fitness : 2.6694709593916843\n",
      "Music : 2.216469826888853\n",
      "Social Networking : 2.0385050962627407\n",
      "Sports : 1.682575635010516\n",
      "Lifestyle : 1.6016825756350106\n",
      "Shopping : 1.375182009383595\n",
      "Weather : 1.116324219381977\n",
      "Travel : 0.970716712506067\n",
      "News : 0.9221808768807637\n",
      "Book : 0.8898236531305614\n",
      "Reference : 0.8574664293803592\n",
      "Business : 0.8574664293803592\n",
      "Finance : 0.7927519818799547\n",
      "Food & Drink : 0.7118589225044492\n",
      "Navigation : 0.4530011325028313\n",
      "Medical : 0.33975084937712347\n",
      "Catalogs : 0.08089305937550557\n",
      "\n",
      "A sorted frequency table for the categories and genres of the apps in Google Play.\n",
      "FAMILY : 19.325982941543582\n",
      "GAME : 9.819013938007073\n",
      "TOOLS : 8.61244019138756\n",
      "BUSINESS : 4.358227584772207\n",
      "MEDICAL : 4.108591637195756\n",
      "PERSONALIZATION : 3.900561680882047\n",
      "PRODUCTIVITY : 3.879758685250676\n",
      "LIFESTYLE : 3.786145204909507\n",
      "FINANCE : 3.588516746411483\n",
      "SPORTS : 3.3804867900977738\n",
      "COMMUNICATION : 3.2660703141252343\n",
      "HEALTH_AND_FITNESS : 2.995631370917412\n",
      "PHOTOGRAPHY : 2.9124193883919283\n",
      "NEWS_AND_MAGAZINES : 2.600374453921365\n",
      "SOCIAL : 2.485957977948825\n",
      "TRAVEL_AND_LOCAL : 2.2779280216351157\n",
      "BOOKS_AND_REFERENCE : 2.26752652381943\n",
      "SHOPPING : 2.090701060952777\n",
      "DATING : 1.768254628666528\n",
      "VIDEO_PLAYERS : 1.6954441439567296\n",
      "MAPS_AND_NAVIGATION : 1.3417932182234242\n",
      "FOOD_AND_DRINK : 1.1649677553567712\n",
      "EDUCATION : 1.1025587684626585\n",
      "ENTERTAINMENT : 0.9049303099646349\n",
      "LIBRARIES_AND_DEMO : 0.8737258165175785\n",
      "AUTO_AND_VEHICLES : 0.8737258165175785\n",
      "WEATHER : 0.8217183274391513\n",
      "HOUSE_AND_HOME : 0.7593093405450385\n",
      "EVENTS : 0.6656958602038693\n",
      "PARENTING : 0.6240898689411275\n",
      "ART_AND_DESIGN : 0.6240898689411275\n",
      "COMICS : 0.5720823798627002\n",
      "BEAUTY : 0.5512793842313293\n",
      "\n",
      "\n",
      "Tools : 8.602038693571874\n",
      "Entertainment : 5.793634283336801\n",
      "Education : 5.231953401289786\n",
      "Business : 4.358227584772207\n",
      "Medical : 4.108591637195756\n",
      "Personalization : 3.900561680882047\n",
      "Productivity : 3.879758685250676\n",
      "Lifestyle : 3.775743707093822\n",
      "Finance : 3.588516746411483\n",
      "Sports : 3.442895776991887\n",
      "Communication : 3.2660703141252343\n",
      "Action : 3.110047846889952\n",
      "Health & Fitness : 2.995631370917412\n",
      "Photography : 2.9124193883919283\n",
      "News & Magazines : 2.600374453921365\n",
      "Social : 2.485957977948825\n",
      "Travel & Local : 2.26752652381943\n",
      "Books & Reference : 2.26752652381943\n",
      "Shopping : 2.090701060952777\n",
      "Simulation : 1.9762845849802373\n",
      "Arcade : 1.9138755980861244\n",
      "Dating : 1.768254628666528\n",
      "Casual : 1.7162471395881007\n",
      "Video Players & Editors : 1.674641148325359\n",
      "Maps & Navigation : 1.3417932182234242\n",
      "Puzzle : 1.2377782400665696\n",
      "Food & Drink : 1.1649677553567712\n",
      "Role Playing : 1.0817557728312877\n",
      "Strategy : 0.9777407946744331\n",
      "Racing : 0.9465363012273768\n",
      "Libraries & Demo : 0.8737258165175785\n",
      "Auto & Vehicles : 0.8737258165175785\n",
      "Weather : 0.8217183274391513\n",
      "House & Home : 0.7593093405450385\n",
      "Adventure : 0.748907842729353\n",
      "Events : 0.6656958602038693\n",
      "Art & Design : 0.5824838776783856\n",
      "Comics : 0.5616808820470147\n",
      "Beauty : 0.5512793842313293\n",
      "Card : 0.48887039733721654\n",
      "Parenting : 0.4784688995215311\n",
      "Board : 0.43686290825878926\n",
      "Casino : 0.40565841481173287\n",
      "Educational;Education : 0.3952569169960474\n",
      "Trivia : 0.384855419180362\n",
      "Educational : 0.384855419180362\n",
      "Education;Education : 0.36405242354899103\n",
      "Casual;Pretend Play : 0.26003744539213647\n",
      "Word : 0.23923444976076555\n",
      "Music : 0.1976284584980237\n",
      "Puzzle;Brain Games : 0.1768254628666528\n",
      "Education;Pretend Play : 0.1768254628666528\n",
      "Racing;Action & Adventure : 0.16642396505096732\n",
      "Entertainment;Music & Video : 0.15602246723528188\n",
      "Board;Brain Games : 0.1456209694195964\n",
      "Arcade;Action & Adventure : 0.1456209694195964\n",
      "Educational;Pretend Play : 0.13521947160391096\n",
      "Casual;Action & Adventure : 0.13521947160391096\n",
      "Casual;Brain Games : 0.1248179737882255\n",
      "Action;Action & Adventure : 0.1248179737882255\n",
      "Simulation;Action & Adventure : 0.0728104847097982\n",
      "Parenting;Education : 0.0728104847097982\n",
      "Entertainment;Brain Games : 0.0728104847097982\n",
      "Parenting;Music & Video : 0.06240898689411275\n",
      "Educational;Brain Games : 0.06240898689411275\n",
      "Education;Creativity : 0.06240898689411275\n",
      "Casual;Creativity : 0.06240898689411275\n",
      "Art & Design;Creativity : 0.06240898689411275\n",
      "Educational;Creativity : 0.052007489078427296\n",
      "Adventure;Action & Adventure : 0.052007489078427296\n",
      "Sports;Action & Adventure : 0.04160599126274183\n",
      "Role Playing;Pretend Play : 0.04160599126274183\n",
      "Role Playing;Action & Adventure : 0.04160599126274183\n",
      "Education;Brain Games : 0.04160599126274183\n",
      "Education;Action & Adventure : 0.04160599126274183\n",
      "Simulation;Pretend Play : 0.031204493447056374\n",
      "Simulation;Education : 0.031204493447056374\n",
      "Puzzle;Action & Adventure : 0.031204493447056374\n",
      "Music;Music & Video : 0.031204493447056374\n",
      "Entertainment;Creativity : 0.031204493447056374\n",
      "Entertainment;Action & Adventure : 0.031204493447056374\n",
      "Educational;Action & Adventure : 0.031204493447056374\n",
      "Education;Music & Video : 0.031204493447056374\n",
      "Casual;Education : 0.031204493447056374\n",
      "Board;Action & Adventure : 0.031204493447056374\n",
      "Video Players & Editors;Music & Video : 0.020802995631370915\n",
      "Strategy;Action & Adventure : 0.020802995631370915\n",
      "Puzzle;Creativity : 0.020802995631370915\n",
      "Entertainment;Pretend Play : 0.020802995631370915\n",
      "Card;Action & Adventure : 0.020802995631370915\n",
      "Books & Reference;Education : 0.020802995631370915\n",
      "Video Players & Editors;Creativity : 0.010401497815685458\n",
      "Trivia;Education : 0.010401497815685458\n",
      "Travel & Local;Action & Adventure : 0.010401497815685458\n",
      "Tools;Education : 0.010401497815685458\n",
      "Strategy;Education : 0.010401497815685458\n",
      "Strategy;Creativity : 0.010401497815685458\n",
      "Role Playing;Education : 0.010401497815685458\n",
      "Role Playing;Brain Games : 0.010401497815685458\n",
      "Racing;Pretend Play : 0.010401497815685458\n",
      "Puzzle;Education : 0.010401497815685458\n",
      "Parenting;Brain Games : 0.010401497815685458\n",
      "Music & Audio;Music & Video : 0.010401497815685458\n",
      "Lifestyle;Pretend Play : 0.010401497815685458\n",
      "Lifestyle;Education : 0.010401497815685458\n",
      "Health & Fitness;Education : 0.010401497815685458\n",
      "Health & Fitness;Action & Adventure : 0.010401497815685458\n",
      "Entertainment;Education : 0.010401497815685458\n",
      "Communication;Creativity : 0.010401497815685458\n",
      "Comics;Creativity : 0.010401497815685458\n",
      "Casual;Music & Video : 0.010401497815685458\n",
      "Books & Reference;Creativity : 0.010401497815685458\n",
      "Board;Pretend Play : 0.010401497815685458\n",
      "Art & Design;Pretend Play : 0.010401497815685458\n",
      "Art & Design;Action & Adventure : 0.010401497815685458\n",
      "Arcade;Pretend Play : 0.010401497815685458\n",
      "Adventure;Education : 0.010401497815685458\n",
      "Adventure;Brain Games : 0.010401497815685458\n"
     ]
    }
   ],
   "source": [
    "apple_free_genres = []\n",
    "google_free_genres = []\n",
    "\n",
    "for app in apple_english:\n",
    "    name = app[1]\n",
    "    genre = app[11]\n",
    "    if (genre not in apple_free_genres):\n",
    "        apple_free_genres.append(genre)\n",
    "        \n",
    "print('The genres of free apps in the App Store are:', apple_free_genres)\n",
    "\n",
    "for app in google_english:\n",
    "    name = app[0]\n",
    "    genre = app[9]\n",
    "    if (genre not in google_free_genres):\n",
    "        google_free_genres.append(genre)\n",
    "        \n",
    "print('\\nThe genres of free apps in Google Play are:', google_free_genres)\n",
    "print('\\n')\n",
    "\n",
    "def freq_table(dataset, index):\n",
    "    table = {}\n",
    "    total = 0\n",
    "    \n",
    "    for row in dataset:\n",
    "        total += 1\n",
    "        value = row[index]\n",
    "        if value in table:\n",
    "            table[value] += 1\n",
    "        else:\n",
    "            table[value] = 1\n",
    "    \n",
    "    table_percentages = {}\n",
    "    for key in table:\n",
    "        percentage = (table[key] / total) * 100\n",
    "        table_percentages[key] = percentage \n",
    "    \n",
    "    return table_percentages\n",
    "\n",
    "def display_table(dataset, index):\n",
    "    table = freq_table(dataset, index)\n",
    "    table_display = []\n",
    "    for key in table:\n",
    "        key_val_as_tuple = (table[key], key)\n",
    "        table_display.append(key_val_as_tuple)\n",
    "        \n",
    "    table_sorted = sorted(table_display, reverse = True)\n",
    "    for entry in table_sorted:\n",
    "        print(entry[1], ':', entry[0])\n",
    "\n",
    "print('A sorted frequency table for the columns prime_genre for the App Store.') \n",
    "display_table(apple_english, 11)\n",
    "print('\\nA sorted frequency table for the categories and genres of the apps in Google Play.')\n",
    "display_table(google_english, 1)\n",
    "print('\\n')\n",
    "display_table(google_english, 9)"
   ]
  },
  {
   "cell_type": "markdown",
   "metadata": {},
   "source": [
    "## Analyzing the frequency table for the most common genres in the App Store and Google Play datasets"
   ]
  },
  {
   "cell_type": "markdown",
   "metadata": {},
   "source": [
    "Upon analyzing the sorted frequency table, the most common genre were games, entertainment, education, photo & video, and utilities for the App Store dataset. These 5 categories made up around 75% or most of all English free apps. When examining the top 10 frequent categories of free apps: 6 of 10 were for entertainment(games, entertainment, photo & video, music, social networking, and sports) comprising 73.56%, while the other 4 were for practical purposes(education, utilities, productivity, and health & fitness) making up approximately 15.47%. There were significantly more apps for entertainment than practical purposes, with games making up over half of all free apps available with 54.86%. It is noted that fun apps are the most numerous, however, they do not have the greatest number of users - the demand is not the same as the offerings."
   ]
  },
  {
   "cell_type": "markdown",
   "metadata": {},
   "source": [
    "For the category column of the Google Play dataset, the top 5 categories were: family, games, tools, business, and medical, while the top 5 categories for genres were: tools, entertainment, education, business, and medical. This time the top 5 categories made up around 46% or nearly half of all English free apps and the top 5 genres made up only 28%. There were 11 categories with at least 3% usage for both the categories and genres. Of the top 10 apps used, there are not that many apps used for entertainment, and it seems more of the apps are designed for practical purposes(family, tools, business, lifestyle, productivity, etc.). Upon further investigation, the family category which accounts for almost 19% of the apps, is mainly games for kids."
   ]
  },
  {
   "cell_type": "markdown",
   "metadata": {},
   "source": [
    "Even so, practical apps seem to have a better representation on Google Play compared to the App Store. The difference between the genres and the category columns is not quite clear, but the genres column is more granular(it has more categories). We are interested in the bigger picture at the moment, so we'll work with the category column for Google Play moving forward. \n",
    "\n",
    "At this point, we found that the App Store is mostly apps designed for fun, while Google Play shows a more balanced landscape of both practical and for-fun apps."
   ]
  },
  {
   "cell_type": "markdown",
   "metadata": {},
   "source": [
    "## Most popular apps on the App Store by average number of installs per app genre"
   ]
  },
  {
   "cell_type": "markdown",
   "metadata": {},
   "source": [
    "One way to find out which genres are the most popular(have the most users) is to calculate the average number of installs for each app genre. For the Google Play dataset, we can find this information in ths Installs column, but this information is missing for the App Store dataset. As a workaround, we'll take the total number of user ratings instead, which we can find in the rating_count_tot app."
   ]
  },
  {
   "cell_type": "code",
   "execution_count": 89,
   "metadata": {},
   "outputs": [
    {
     "name": "stdout",
     "output_type": "stream",
     "text": [
      "Social Networking : 60253.84920634921\n",
      "Photo & Video : 14688.715542521993\n",
      "Games : 15595.90442477876\n",
      "Music : 29047.109489051094\n",
      "Reference : 27037.188679245282\n",
      "Health & Fitness : 10802.157575757576\n",
      "Weather : 23145.246376811596\n",
      "Utilities : 7927.525821596244\n",
      "Travel : 19030.183333333334\n",
      "Shopping : 26635.011764705883\n",
      "News : 16980.315789473683\n",
      "Navigation : 19370.821428571428\n",
      "Lifestyle : 8930.373737373737\n",
      "Entertainment : 8862.409799554565\n",
      "Food & Drink : 19934.386363636364\n",
      "Sports : 15350.913461538461\n",
      "Book : 10359.2\n",
      "Finance : 23353.530612244896\n",
      "Education : 2472.278048780488\n",
      "Productivity : 8508.089285714286\n",
      "Business : 5149.320754716981\n",
      "Catalogs : 3465.0\n",
      "Medical : 648.952380952381\n"
     ]
    }
   ],
   "source": [
    "genres_apple = freq_table(apple_english, 11)\n",
    "\n",
    "for genre in genres_apple:\n",
    "    total = 0\n",
    "    len_genre = 0\n",
    "    for app in apple_english:\n",
    "        genre_app = app[11]\n",
    "        if genre_app == genre:            \n",
    "            n_ratings = float(app[5])\n",
    "            total += n_ratings\n",
    "            len_genre += 1\n",
    "    avg_n_ratings = total / len_genre\n",
    "    print(genre, ':', avg_n_ratings)"
   ]
  },
  {
   "cell_type": "markdown",
   "metadata": {},
   "source": [
    "On average, navigation/reference apps have the highest number of user reviews, but this figure is heavily influenced by Waze and Google Maps, which have close to half a million reviews together. "
   ]
  },
  {
   "cell_type": "code",
   "execution_count": 90,
   "metadata": {},
   "outputs": [
    {
     "name": "stdout",
     "output_type": "stream",
     "text": [
      "Waze - GPS Navigation, Maps & Real-time Traffic : 345046\n",
      "Google Maps - Navigation & Transit : 154911\n",
      "MotionX GPS : 14970\n",
      "Geocaching® : 12811\n",
      "CoPilot GPS – Car Navigation & Offline Maps : 3582\n",
      "Gaia GPS Classic : 2429\n",
      "Plane Finder - Flight Tracker : 1438\n",
      "iMaps+ for Google Maps ™ and Street View ™ : Transit and Offline Contacts : 1225\n",
      "NAVIGON Europe : 927\n",
      "Localscope - Find places and people around you : 868\n",
      "Ski Tracks : 829\n",
      "TRANSPORT MODS for MINECRAFT Pc EDITION : 754\n",
      "Pocket Earth PRO Offline Maps & Travel Guides : 748\n",
      "Ship Finder : 624\n",
      "Boating USA : 342\n",
      "Maps 3D PRO - GPS for Bike, Hike, Ski & Outdoor : 280\n",
      "Cachly - Simple and powerful Geocaching for iPhone : 263\n",
      "ImmobilienScout24: Real Estate Search in Germany : 187\n",
      "The JMU Bus App : 35\n",
      "Avertinoo : 32\n",
      "iStellar : 30\n",
      "mySTATE - State College : 26\n",
      "Road watcher: dash camera, car video recorder. : 10\n",
      "Streets – Street View Browser : 10\n",
      "Railway Route Search : 5\n",
      "parkOmator – for Apple Watch meter expiration timer, notifications & GPS navigator to car location : 1\n",
      "ZuumSpeed Customizable Speedometer + HUD : 0\n",
      "BringGo Western Europe : 0\n"
     ]
    }
   ],
   "source": [
    "for app in apple_english:\n",
    "    if app[11] == 'Navigation':\n",
    "        print(app[1], ':', app[5]) # print name and number of ratings\n"
   ]
  },
  {
   "cell_type": "markdown",
   "metadata": {},
   "source": [
    "The same pattern applies to social networking apps, where the average number is heavily influenced by a few giants like Facebook, Pinterest, Skype, etc. Same applies to music apps, where a few big players like Pandora, Spotify, and Shazam heavily influence the average number.\n",
    "\n",
    "Our aim is to find popular genres, but navigation, social networking or music apps might seem more popular than they really are. The average number of ratings seem to be skewed by very few apps which have hundreds of thousands of user ratings, while the other apps may struggle to get past the 10,000 threshold. We could get a better picture by removing these extremely popular apps for each genre and then rework the averages."
   ]
  },
  {
   "cell_type": "markdown",
   "metadata": {},
   "source": [
    "## Most popular apps on Google Play by average number of installs per app genre"
   ]
  },
  {
   "cell_type": "code",
   "execution_count": 91,
   "metadata": {},
   "outputs": [
    {
     "name": "stdout",
     "output_type": "stream",
     "text": [
      "ART_AND_DESIGN : 1887285.0\n",
      "AUTO_AND_VEHICLES : 632501.3214285715\n",
      "BEAUTY : 513151.88679245283\n",
      "BOOKS_AND_REFERENCE : 7641777.871559633\n",
      "BUSINESS : 1663758.627684964\n",
      "COMICS : 817657.2727272727\n",
      "COMMUNICATION : 35153714.17515924\n",
      "DATING : 828971.2176470588\n",
      "EDUCATION : 1782566.0377358492\n",
      "ENTERTAINMENT : 11375402.298850575\n",
      "EVENTS : 249580.640625\n",
      "FINANCE : 1319851.4028985507\n",
      "FOOD_AND_DRINK : 1891060.2767857143\n",
      "HEALTH_AND_FITNESS : 3972300.388888889\n",
      "HOUSE_AND_HOME : 1331540.5616438356\n",
      "LIBRARIES_AND_DEMO : 630903.6904761905\n",
      "LIFESTYLE : 1369954.7774725275\n",
      "GAME : 14256217.600635594\n",
      "FAMILY : 3345018.516684607\n",
      "MEDICAL : 96944.49873417722\n",
      "SOCIAL : 22961790.384937238\n",
      "SHOPPING : 6966908.880597015\n",
      "PHOTOGRAPHY : 16636241.267857144\n",
      "SPORTS : 3373767.6861538463\n",
      "TRAVEL_AND_LOCAL : 13218662.767123288\n",
      "TOOLS : 9785955.211352658\n",
      "PERSONALIZATION : 4086652.4853333333\n",
      "PRODUCTIVITY : 15530942.008042896\n",
      "PARENTING : 525351.8333333334\n",
      "WEATHER : 4570892.658227848\n",
      "VIDEO_PLAYERS : 24121489.079754602\n",
      "NEWS_AND_MAGAZINES : 9472807.04\n",
      "MAPS_AND_NAVIGATION : 3900634.7286821706\n"
     ]
    }
   ],
   "source": [
    "categories_google = freq_table(google_english, 1)\n",
    "\n",
    "for category in categories_google:\n",
    "    total = 0\n",
    "    len_category = 0\n",
    "    for app in google_english:\n",
    "        category_app = app[1]\n",
    "        if category_app == category: \n",
    "            n_installs = app[5]\n",
    "            n_installs = n_installs.replace(',','')\n",
    "            n_installs = n_installs.replace('+','')\n",
    "            total += float(n_installs)\n",
    "            len_category += 1\n",
    "    avg_n_installs = total / len_category\n",
    "    print(category, ':', avg_n_installs)  "
   ]
  },
  {
   "cell_type": "markdown",
   "metadata": {},
   "source": [
    "On average, communication apps have the most installs with 35,153,714. This number is heavily skewed up by a few apps that have over one billion installations(WhatsApp, Facebook, Messenger, Skype, Google Chrome, Gmail, and Hangouts), and a few others with over 100 and 500 million installs. "
   ]
  },
  {
   "cell_type": "code",
   "execution_count": 92,
   "metadata": {},
   "outputs": [
    {
     "name": "stdout",
     "output_type": "stream",
     "text": [
      "WhatsApp Messenger : 1,000,000,000+\n",
      "imo beta free calls and text : 100,000,000+\n",
      "Android Messages : 100,000,000+\n",
      "Google Duo - High Quality Video Calls : 500,000,000+\n",
      "Messenger – Text and Video Chat for Free : 1,000,000,000+\n",
      "imo free video calls and chat : 500,000,000+\n",
      "Skype - free IM & video calls : 1,000,000,000+\n",
      "Who : 100,000,000+\n",
      "GO SMS Pro - Messenger, Free Themes, Emoji : 100,000,000+\n",
      "LINE: Free Calls & Messages : 500,000,000+\n",
      "Google Chrome: Fast & Secure : 1,000,000,000+\n",
      "Firefox Browser fast & private : 100,000,000+\n",
      "UC Browser - Fast Download Private & Secure : 500,000,000+\n",
      "Gmail : 1,000,000,000+\n",
      "Hangouts : 1,000,000,000+\n",
      "Messenger Lite: Free Calls & Messages : 100,000,000+\n",
      "Kik : 100,000,000+\n",
      "KakaoTalk: Free Calls & Text : 100,000,000+\n",
      "Opera Mini - fast web browser : 100,000,000+\n",
      "Opera Browser: Fast and Secure : 100,000,000+\n",
      "Telegram : 100,000,000+\n",
      "Truecaller: Caller ID, SMS spam blocking & Dialer : 100,000,000+\n",
      "UC Browser Mini -Tiny Fast Private & Secure : 100,000,000+\n",
      "Viber Messenger : 500,000,000+\n",
      "WeChat : 100,000,000+\n",
      "Yahoo Mail – Stay Organized : 100,000,000+\n",
      "BBM - Free Calls & Messages : 100,000,000+\n"
     ]
    }
   ],
   "source": [
    "for app in google_english:\n",
    "    if app[1] == 'COMMUNICATION' and (app[5] == '1,000,000,000+'\n",
    "                                      or app[5] == '500,000,000+'\n",
    "                                      or app[5] == '100,000,000+'):\n",
    "        print(app[0], ':', app[5])"
   ]
  },
  {
   "cell_type": "markdown",
   "metadata": {},
   "source": [
    "If we removed all the communication apps that have over 100 million installs, the average would be reduced roughly ten times from 35,135,714 to 3,269,220: "
   ]
  },
  {
   "cell_type": "code",
   "execution_count": 93,
   "metadata": {},
   "outputs": [
    {
     "data": {
      "text/plain": [
       "3269220.386759582"
      ]
     },
     "execution_count": 93,
     "metadata": {},
     "output_type": "execute_result"
    }
   ],
   "source": [
    "under100_m = []\n",
    "\n",
    "for app in google_english:\n",
    "    n_installs = app[5]\n",
    "    n_installs = n_installs.replace(',', '')\n",
    "    n_installs = n_installs.replace('+', '')\n",
    "    if (app[1] == 'COMMUNICATION') and (float(n_installs) < 100000000):\n",
    "        under100_m.append(float(n_installs))\n",
    "        \n",
    "sum(under100_m) / len(under100_m)"
   ]
  },
  {
   "cell_type": "markdown",
   "metadata": {},
   "source": [
    "We see the same pattern for the video players category, which is the runner-up with 24,727,872 installs. The market is dominated by apps like Youtube, Google Play Movies & TV, or MX Player. The pattern is repeated for social apps (where we have giants like Facebook, Instagram, Google+, etc.), photography apps (Google Photos and other popular photo editors), or productivity apps (Microsoft Word, Dropbox, Google Calendar, Evernote, etc.).\n",
    "\n",
    "Again, the main concern is that these app genres might seem more popular than they really are. Moreover, these niches seem to be dominated by a few giants who are hard to compete against.\n",
    "\n",
    "The game genre seems pretty popular, but previously we found out this part of the market seems a bit saturated, so we'd like to come up with a different app recommendation if possible.\n",
    "\n",
    "The books and reference genre looks fairly popular as well, with an average number of installs of 8,767,811. It's interesting to explore this in more depth, since we found this genre has some potential to work well on the App Store, and our aim is to recommend an app genre that shows potential for being profitable on both the App Store and Google Play.\n",
    "\n",
    "Let's take a look at some of the apps from this genre and their number of installs:"
   ]
  },
  {
   "cell_type": "code",
   "execution_count": 94,
   "metadata": {},
   "outputs": [
    {
     "name": "stdout",
     "output_type": "stream",
     "text": [
      "E-Book Read - Read Book for free : 50,000+\n",
      "Download free book with green book : 100,000+\n",
      "Wikipedia : 10,000,000+\n",
      "Cool Reader : 10,000,000+\n",
      "Free Panda Radio Music : 100,000+\n",
      "Book store : 1,000,000+\n",
      "FBReader: Favorite Book Reader : 10,000,000+\n",
      "English Grammar Complete Handbook : 500,000+\n",
      "Free Books - Spirit Fanfiction and Stories : 1,000,000+\n",
      "Google Play Books : 1,000,000,000+\n",
      "AlReader -any text book reader : 5,000,000+\n",
      "Offline English Dictionary : 100,000+\n",
      "Offline: English to Tagalog Dictionary : 500,000+\n",
      "FamilySearch Tree : 1,000,000+\n",
      "Cloud of Books : 1,000,000+\n",
      "Recipes of Prophetic Medicine for free : 500,000+\n",
      "ReadEra – free ebook reader : 1,000,000+\n",
      "Anonymous caller detection : 10,000+\n",
      "Ebook Reader : 5,000,000+\n",
      "Litnet - E-books : 100,000+\n",
      "Read books online : 5,000,000+\n",
      "English to Urdu Dictionary : 500,000+\n",
      "eBoox: book reader fb2 epub zip : 1,000,000+\n",
      "English Persian Dictionary : 500,000+\n",
      "Flybook : 500,000+\n",
      "All Maths Formulas : 1,000,000+\n",
      "Ancestry : 5,000,000+\n",
      "HTC Help : 10,000,000+\n",
      "English translation from Bengali : 100,000+\n",
      "Pdf Book Download - Read Pdf Book : 100,000+\n",
      "Free Book Reader : 100,000+\n",
      "eBoox new: Reader for fb2 epub zip books : 50,000+\n",
      "Only 30 days in English, the guideline is guaranteed : 500,000+\n",
      "Moon+ Reader : 10,000,000+\n",
      "SH-02J Owner's Manual (Android 8.0) : 50,000+\n",
      "English-Myanmar Dictionary : 1,000,000+\n",
      "Golden Dictionary (EN-AR) : 1,000,000+\n",
      "All Language Translator Free : 1,000,000+\n",
      "Azpen eReader : 500,000+\n",
      "URBANO V 02 instruction manual : 100,000+\n",
      "Bible : 100,000,000+\n",
      "C Programs and Reference : 50,000+\n",
      "C Offline Tutorial : 1,000+\n",
      "C Programs Handbook : 50,000+\n",
      "Amazon Kindle : 100,000,000+\n",
      "Aab e Hayat Full Novel : 100,000+\n",
      "Aldiko Book Reader : 10,000,000+\n",
      "Google I/O 2018 : 500,000+\n",
      "R Language Reference Guide : 10,000+\n",
      "Learn R Programming Full : 5,000+\n",
      "R Programing Offline Tutorial : 1,000+\n",
      "Guide for R Programming : 5+\n",
      "Learn R Programming : 10+\n",
      "R Quick Reference Big Data : 1,000+\n",
      "Don't Panic with Andrew J. : 5,000+\n",
      "V Made : 100,000+\n",
      "Wattpad 📖 Free Books : 100,000,000+\n",
      "Dictionary - WordWeb : 5,000,000+\n",
      "Guide (for X-MEN) : 100,000+\n",
      "AC Air condition Troubleshoot,Repair,Maintenance : 5,000+\n",
      "AE Bulletins : 1,000+\n",
      "Ae Allah na Dai (Rasa) : 10,000+\n",
      "50000 Free eBooks & Free AudioBooks : 5,000,000+\n",
      "Ag PhD Field Guide : 10,000+\n",
      "Ag PhD Deficiencies : 10,000+\n",
      "Ag PhD Planting Population Calculator : 1,000+\n",
      "Ag PhD Soybean Diseases : 1,000+\n",
      "Fertilizer Removal By Crop : 50,000+\n",
      "Hey AJ! It's Saturday! : 100+\n",
      "A-J Media Vault : 50+\n",
      "Al-Quran (Free) : 10,000,000+\n",
      "Al Quran (Tafsir & by Word) : 500,000+\n",
      "Al Quran Indonesia : 10,000,000+\n",
      "Al'Quran Bahasa Indonesia : 10,000,000+\n",
      "Al Quran Al karim : 1,000,000+\n",
      "Al-Muhaffiz : 50,000+\n",
      "Al Quran : EAlim - Translations & MP3 Offline : 5,000,000+\n",
      "Al-Quran 30 Juz free copies : 500,000+\n",
      "Koran Read &MP3 30 Juz Offline : 1,000,000+\n",
      "Al'Quran Bahasa Indonesia PRO : 10,000+\n",
      "Hafizi Quran 15 lines per page : 1,000,000+\n",
      "Quran for Android : 10,000,000+\n",
      "Surah Al-Waqiah : 100,000+\n",
      "Hisnul Al Muslim - Hisn Invocations & Adhkaar : 100,000+\n",
      "Satellite AR : 1,000,000+\n",
      "Audiobooks from Audible : 100,000,000+\n",
      "Kinot & Eichah for Tisha B'Av : 10,000+\n",
      "AW Tozer Devotionals - Daily : 5,000+\n",
      "Tozer Devotional -Series 1 : 1,000+\n",
      "The Pursuit of God : 1,000+\n",
      "AY Sing : 5,000+\n",
      "Ay Hasnain k Nana Milad Naat : 10,000+\n",
      "Ay Mohabbat Teri Khatir Novel : 10,000+\n",
      "Arizona Statutes, ARS (AZ Law) : 1,000+\n",
      "Oxford A-Z of English Usage : 1,000,000+\n",
      "BC MVA Fines : 50+\n",
      "BD Fishpedia : 1,000+\n",
      "BD All Sim Offer : 10,000+\n",
      "Youboox - Livres, BD et magazines : 500,000+\n",
      "B&H Kids AR : 10,000+\n",
      "B y H Niños ES : 5,000+\n",
      "Dictionary.com: Find Definitions for English Words : 10,000,000+\n",
      "English Dictionary - Offline : 10,000,000+\n",
      "Bible KJV : 5,000,000+\n",
      "Borneo Bible, BM Bible : 10,000+\n",
      "MOD Black for BM : 100+\n",
      "BM Box : 1,000+\n",
      "Anime Mod for BM : 100+\n",
      "NOOK: Read eBooks & Magazines : 10,000,000+\n",
      "NOOK Audiobooks : 500,000+\n",
      "NOOK App for NOOK Devices : 500,000+\n",
      "Browsery by Barnes & Noble : 5,000+\n",
      "bp e-store : 1,000+\n",
      "Brilliant Quotes: Life, Love, Family & Motivation : 1,000,000+\n",
      "BR Ambedkar Biography & Quotes : 10,000+\n",
      "17th Edition Cable Sizer : 1,000+\n",
      "BU Alsace : 100+\n",
      "Catholic La Bu Zo Kam : 500+\n",
      "Khrifa Hla Bu (Solfa) : 10+\n",
      "Kristian Hla Bu : 10,000+\n",
      "SA HLA BU : 1,000+\n",
      "Learn SAP BW : 500+\n",
      "Learn SAP BW on HANA : 500+\n",
      "CA Laws 2018 (California Laws and Codes) : 5,000+\n",
      "Bootable Methods(USB-CD-DVD) : 10,000+\n",
      "ch-mm Dict : 10+\n",
      "cloudLibrary : 100,000+\n",
      "SDA Collegiate Quarterly : 500+\n",
      "Sabbath School : 100,000+\n",
      "Cypress College Library : 100+\n",
      "Stats Royale for Clash Royale : 1,000,000+\n",
      "GATE 21 years CS Papers(2011-2018 Solved) : 50+\n",
      "Learn CT Scan Of Head : 5,000+\n",
      "Easy Cv maker 2018 : 10,000+\n",
      "How to Write CV : 100,000+\n",
      "CW Nuclear : 1,000+\n",
      "CY Spray nozzle : 10+\n",
      "BibleRead En Cy Zh Yue : 5+\n",
      "CZ-70 (CZ-50) pistol explained : 10+\n",
      "CZ-52 pistol explained : 10+\n",
      "CZ-27 pistol explained : 10+\n",
      "CZ-45 pistol explained : 10+\n",
      "CZ-Help : 5+\n",
      "Pistolet CZ-70 CZ-50 expliqué : 1+\n",
      "CZ-38 (vz 38) pistol explained : 5+\n",
      "Modlitební knížka CZ : 500+\n",
      "Reksio cz. 1 : 10+\n",
      "10,000 Quotes DB (Premium) : 500+\n",
      "Guide for DB Xenoverse : 10,000+\n",
      "Guide for DB Xenoverse 2 : 10,000+\n",
      "Guide for IMS DB : 10+\n",
      "DC HSEMA : 5,000+\n",
      "DC Public Library : 1,000+\n",
      "Painting Lulu DC Super Friends : 1,000+\n",
      "Dictionary : 10,000,000+\n",
      "Fix Error Google Playstore : 1,000+\n",
      "D. H. Lawrence Poems FREE : 1,000+\n",
      "Bilingual Dictionary Audio App : 5,000+\n",
      "DM Screen : 10,000+\n",
      "Dungeons and Dragons DM Tools : 1,000+\n",
      "Cossack Dictionary (DN) : 10+\n",
      "wikiHow: how to do anything : 1,000,000+\n",
      "Dr. Doug's Tips : 1,000+\n",
      "Bible du Semeur-BDS (French) : 50,000+\n",
      "La citadelle du musulman : 50,000+\n",
      "Officiel du SCRABBLE LAROUSSE : 5,000+\n",
      "DV 2019 Entry Guide : 10,000+\n",
      "DV 2019 - EDV Photo & Form : 50,000+\n",
      "DV 2018 Winners Guide : 1,000+\n",
      "EB Annual Meetings : 1,000+\n",
      "Schlaumeier : 5+\n",
      "EC - AP & Telangana : 5,000+\n",
      "TN Patta Citta & EC : 10,000+\n",
      "AP Stamps and Registration : 10,000+\n",
      "CompactiMa EC pH Calibration : 100+\n",
      "EGW Writings 2 : 100,000+\n",
      "EGW Writings : 1,000,000+\n",
      "Bible with EGW Comments : 100,000+\n",
      "My Little Pony AR Guide : 1,000,000+\n",
      "SDA Sabbath School Quarterly : 500,000+\n",
      "Duaa Ek Ibaadat : 5,000+\n",
      "Spanish English Translator : 10,000,000+\n",
      "Dictionary - Merriam-Webster : 10,000,000+\n",
      "JW Library : 10,000,000+\n",
      "Oxford Dictionary of English : Free : 10,000,000+\n",
      "English Hindi Dictionary : 10,000,000+\n",
      "English to Hindi Dictionary : 5,000,000+\n",
      "O Céu e o Inferno : 500+\n",
      "EP Research Service : 1,000+\n",
      "Hymnes et Louanges : 100,000+\n",
      "EU Charter : 1,000+\n",
      "EU Data Protection : 1,000+\n",
      "EU RCD Guide : 10+\n",
      "EU IP Codes : 100+\n",
      "EW PDF : 5+\n",
      "BakaReader EX : 100,000+\n",
      "EZ Quran : 50,000+\n",
      "FA Part 1 & 2 Past Papers Solved Free – Offline : 5,000+\n",
      "La Fe de Jesus : 1,000+\n",
      "La Fe de Jesús : 500+\n",
      "Le Fe de Jesus : 500+\n",
      "Florida - Pocket Brainbook : 1,000+\n",
      "Florida Statutes (FL Code) : 1,000+\n",
      "FN pistol Model 1906 explained : 10+\n",
      "FN pistol model 1903 explained : 10+\n",
      "The FN \"Baby\" pistol explained : 10+\n",
      "FN FAL rifle explained : 10+\n",
      "The FN HP pistol explained : 10+\n",
      "FN model 1900 pistol explained : 10+\n",
      "Pistolet FN GP35 expliqué : 5+\n",
      "Pistolet FN 1906 expliqué : 10+\n",
      "English To Shona Dictionary : 10,000+\n",
      "Greek Bible FP (Audio) : 1,000+\n",
      "Golden Dictionary (FR-AR) : 500,000+\n",
      "Fanfic-FR : 5,000+\n",
      "Bulgarian French Dictionary Fr : 10,000+\n",
      "Chemin (fr) : 1,000+\n",
      "The SCP Foundation DB fr nn5n : 1,000+\n"
     ]
    }
   ],
   "source": [
    "for app in google_english:\n",
    "    if app[1] == 'BOOKS_AND_REFERENCE':\n",
    "        print(app[0], ':', app[5])"
   ]
  },
  {
   "cell_type": "markdown",
   "metadata": {},
   "source": [
    "The book and reference genre includes a variety of apps: software for processing and reading ebooks, various collections of libraries, dictionaries, tutorials on programming or languages, etc. It seems there's still a small number of extremely popular apps that skew the average:"
   ]
  },
  {
   "cell_type": "code",
   "execution_count": 95,
   "metadata": {},
   "outputs": [
    {
     "name": "stdout",
     "output_type": "stream",
     "text": [
      "Google Play Books : 1,000,000,000+\n",
      "Bible : 100,000,000+\n",
      "Amazon Kindle : 100,000,000+\n",
      "Wattpad 📖 Free Books : 100,000,000+\n",
      "Audiobooks from Audible : 100,000,000+\n"
     ]
    }
   ],
   "source": [
    "for app in google_english:\n",
    "    if app[1] == 'BOOKS_AND_REFERENCE' and (app[5] == '1,000,000,000+'\n",
    "                                            or app[5] == '500,000,000+'\n",
    "                                            or app[5] == '100,000,000+'):\n",
    "        print(app[0], ':', app[5])"
   ]
  },
  {
   "cell_type": "markdown",
   "metadata": {},
   "source": [
    "However, it looks like there are only a few very popular apps, so this market still shows potential. Let's try to get some app ideas based on the kind of apps that are somewhere in the middle in terms of popularity (between 1,000,000 and 100,000,000 downloads):"
   ]
  },
  {
   "cell_type": "code",
   "execution_count": 96,
   "metadata": {},
   "outputs": [
    {
     "name": "stdout",
     "output_type": "stream",
     "text": [
      "Wikipedia : 10,000,000+\n",
      "Cool Reader : 10,000,000+\n",
      "Book store : 1,000,000+\n",
      "FBReader: Favorite Book Reader : 10,000,000+\n",
      "Free Books - Spirit Fanfiction and Stories : 1,000,000+\n",
      "AlReader -any text book reader : 5,000,000+\n",
      "FamilySearch Tree : 1,000,000+\n",
      "Cloud of Books : 1,000,000+\n",
      "ReadEra – free ebook reader : 1,000,000+\n",
      "Ebook Reader : 5,000,000+\n",
      "Read books online : 5,000,000+\n",
      "eBoox: book reader fb2 epub zip : 1,000,000+\n",
      "All Maths Formulas : 1,000,000+\n",
      "Ancestry : 5,000,000+\n",
      "HTC Help : 10,000,000+\n",
      "Moon+ Reader : 10,000,000+\n",
      "English-Myanmar Dictionary : 1,000,000+\n",
      "Golden Dictionary (EN-AR) : 1,000,000+\n",
      "All Language Translator Free : 1,000,000+\n",
      "Aldiko Book Reader : 10,000,000+\n",
      "Dictionary - WordWeb : 5,000,000+\n",
      "50000 Free eBooks & Free AudioBooks : 5,000,000+\n",
      "Al-Quran (Free) : 10,000,000+\n",
      "Al Quran Indonesia : 10,000,000+\n",
      "Al'Quran Bahasa Indonesia : 10,000,000+\n",
      "Al Quran Al karim : 1,000,000+\n",
      "Al Quran : EAlim - Translations & MP3 Offline : 5,000,000+\n",
      "Koran Read &MP3 30 Juz Offline : 1,000,000+\n",
      "Hafizi Quran 15 lines per page : 1,000,000+\n",
      "Quran for Android : 10,000,000+\n",
      "Satellite AR : 1,000,000+\n",
      "Oxford A-Z of English Usage : 1,000,000+\n",
      "Dictionary.com: Find Definitions for English Words : 10,000,000+\n",
      "English Dictionary - Offline : 10,000,000+\n",
      "Bible KJV : 5,000,000+\n",
      "NOOK: Read eBooks & Magazines : 10,000,000+\n",
      "Brilliant Quotes: Life, Love, Family & Motivation : 1,000,000+\n",
      "Stats Royale for Clash Royale : 1,000,000+\n",
      "Dictionary : 10,000,000+\n",
      "wikiHow: how to do anything : 1,000,000+\n",
      "EGW Writings : 1,000,000+\n",
      "My Little Pony AR Guide : 1,000,000+\n",
      "Spanish English Translator : 10,000,000+\n",
      "Dictionary - Merriam-Webster : 10,000,000+\n",
      "JW Library : 10,000,000+\n",
      "Oxford Dictionary of English : Free : 10,000,000+\n",
      "English Hindi Dictionary : 10,000,000+\n",
      "English to Hindi Dictionary : 5,000,000+\n"
     ]
    }
   ],
   "source": [
    "for app in google_english:\n",
    "    if app[1] == 'BOOKS_AND_REFERENCE' and (app[5] == '1,000,000+'\n",
    "                                            or app[5] == '5,000,000+'\n",
    "                                            or app[5] == '10,000,000+'\n",
    "                                            or app[5] == '50,000,000+'):\n",
    "        print(app[0], ':', app[5])"
   ]
  },
  {
   "cell_type": "markdown",
   "metadata": {},
   "source": [
    "This niche seems to be dominated by software for processing and reading ebooks, as well as various collections of libraries and dictionaries, so it's probably not a good idea to build similar apps since there'll be some significant competition.\n",
    "\n",
    "We also notice there are quite a few apps built around the book Quran, which suggests that building an app around a popular book can be profitable. It seems that taking a popular book (perhaps a more recent book) and turning it into an app could be profitable for both the Google Play and the App Store markets.\n",
    "\n",
    "However, it looks like the market is already full of libraries, so we need to add some special features besides the raw version of the book. This might include daily quotes from the book, an audio version of the book, quizzes on the book, a forum where people can discuss the book, etc."
   ]
  },
  {
   "cell_type": "markdown",
   "metadata": {},
   "source": [
    "## Conclusions\n",
    "In this project, we analyzed data about the App Store and Google Play mobile apps with the goal of recommending an app profile that can be profitable for both markets.\n",
    "\n",
    "We concluded that taking a popular book (perhaps a more recent book) and turning it into an app could be profitable for both the Google Play and the App Store markets. The markets are already full of libraries, so we need to add some special features besides the raw version of the book. This might include daily quotes from the book, an audio version of the book, quizzes on the book, a forum where people can discuss the book, etc."
   ]
  },
  {
   "cell_type": "code",
   "execution_count": null,
   "metadata": {},
   "outputs": [],
   "source": []
  }
 ],
 "metadata": {
  "kernelspec": {
   "display_name": "Python 3",
   "language": "python",
   "name": "python3"
  },
  "language_info": {
   "codemirror_mode": {
    "name": "ipython",
    "version": 3
   },
   "file_extension": ".py",
   "mimetype": "text/x-python",
   "name": "python",
   "nbconvert_exporter": "python",
   "pygments_lexer": "ipython3",
   "version": "3.8.2"
  }
 },
 "nbformat": 4,
 "nbformat_minor": 2
}
